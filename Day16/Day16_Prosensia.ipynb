{
  "nbformat": 4,
  "nbformat_minor": 0,
  "metadata": {
    "colab": {
      "provenance": [],
      "authorship_tag": "ABX9TyPF/H2FczPOfnoy+No9l5xb"
    },
    "kernelspec": {
      "name": "python3",
      "display_name": "Python 3"
    },
    "language_info": {
      "name": "python"
    }
  },
  "cells": [
    {
      "cell_type": "code",
      "execution_count": 9,
      "metadata": {
        "id": "8oS2lvqdaomb"
      },
      "outputs": [],
      "source": [
        "# 1. Opening a File\n",
        "file = open(\"data.txt\", \"r\")"
      ]
    },
    {
      "cell_type": "code",
      "source": [
        "# 2. Reading a File\n",
        "content = file.read()\n",
        "print(content)"
      ],
      "metadata": {
        "colab": {
          "base_uri": "https://localhost:8080/"
        },
        "id": "6PTOdt34a6__",
        "outputId": "c5d658c5-1346-4627-ada1-6e41bb4b6ac9"
      },
      "execution_count": 10,
      "outputs": [
        {
          "output_type": "stream",
          "name": "stdout",
          "text": [
            "Hello , My name is Rameez Anwar\n"
          ]
        }
      ]
    },
    {
      "cell_type": "code",
      "source": [
        "# 3. Writing to a File\n",
        "file =open(\"output.txt\",'w')\n",
        "file.write(\"Hello, World!\")\n"
      ],
      "metadata": {
        "colab": {
          "base_uri": "https://localhost:8080/"
        },
        "id": "0kW9vlydbmLN",
        "outputId": "46e035a9-1941-489a-a81a-030f33c5ef7c"
      },
      "execution_count": 15,
      "outputs": [
        {
          "output_type": "execute_result",
          "data": {
            "text/plain": [
              "13"
            ]
          },
          "metadata": {},
          "execution_count": 15
        }
      ]
    },
    {
      "source": [
        "# 4. File Not Found\n",
        "try:\n",
        "    file = open(\"data.txt\", \"r\")\n",
        "    content = file.read()\n",
        "    print(content)\n",
        "except FileNotFoundError:\n",
        "    print(\"The file 'data.txt' was not found.\")"
      ],
      "cell_type": "code",
      "metadata": {
        "colab": {
          "base_uri": "https://localhost:8080/"
        },
        "id": "bTd9-1g_cc_R",
        "outputId": "135a318c-21a2-4167-a955-9ccaf3c1e7c4"
      },
      "execution_count": 16,
      "outputs": [
        {
          "output_type": "stream",
          "name": "stdout",
          "text": [
            "Hello , My name is Rameez Anwar\n"
          ]
        }
      ]
    },
    {
      "source": [
        "# 5. Count number of lines\n",
        "file = open(\"data.txt\", \"r\")\n",
        "\n",
        "lines = file.readlines()\n",
        "\n",
        "num_lines = len(lines)\n",
        "print(\"Number of lines:\", num_lines)\n",
        "\n"
      ],
      "cell_type": "code",
      "metadata": {
        "colab": {
          "base_uri": "https://localhost:8080/"
        },
        "id": "qead2aJCcpe2",
        "outputId": "87aa42c9-6618-4294-bba4-923f3d356aed"
      },
      "execution_count": 18,
      "outputs": [
        {
          "output_type": "stream",
          "name": "stdout",
          "text": [
            "Number of lines: 1\n"
          ]
        }
      ]
    },
    {
      "source": [
        "# 6. Searching in a File\n",
        "try:\n",
        "    with open(\"log.txt\", \"r\") as file:\n",
        "        for line in file:\n",
        "            if \"error\" in line:\n",
        "                print(line.strip())\n",
        "except FileNotFoundError:\n",
        "    print(\"The file 'log.txt' was not found.\")"
      ],
      "cell_type": "code",
      "metadata": {
        "colab": {
          "base_uri": "https://localhost:8080/"
        },
        "id": "QukT4Xlbc61h",
        "outputId": "ecc6e824-69b4-4f58-c151-987fe96ad854"
      },
      "execution_count": 21,
      "outputs": [
        {
          "output_type": "stream",
          "name": "stdout",
          "text": [
            "The file 'log.txt' was not found.\n"
          ]
        }
      ]
    },
    {
      "source": [
        "# 7. Copying Files\n",
        "with open(\"data.txt\", \"r\") as source_file, open(\"data_copy.txt\", \"w\") as destination_file:\n",
        "    content = source_file.read()\n",
        "    destination_file.write(content)"
      ],
      "cell_type": "code",
      "metadata": {
        "id": "nYWcbLy6dPsR"
      },
      "execution_count": 23,
      "outputs": []
    },
    {
      "source": [
        "# 8. Appending to a File\n",
        "with open(\"output.txt\", \"a\") as file:\n",
        "    file.write(\"\\nEnd of file\")"
      ],
      "cell_type": "code",
      "metadata": {
        "id": "uq88W3LEdeB0"
      },
      "execution_count": 24,
      "outputs": []
    },
    {
      "source": [
        "# 9. Using Context Manager\n",
        "with open(\"data.txt\", \"r\") as file:\n",
        "    content = file.read()\n",
        "    print(content)"
      ],
      "cell_type": "code",
      "metadata": {
        "colab": {
          "base_uri": "https://localhost:8080/"
        },
        "id": "tLoqKGVTdr3q",
        "outputId": "6f336412-c890-4f0d-9567-4a196595793f"
      },
      "execution_count": 26,
      "outputs": [
        {
          "output_type": "stream",
          "name": "stdout",
          "text": [
            "Hello , My name is Rameez Anwar\n"
          ]
        }
      ]
    },
    {
      "source": [
        "# 10. File properties\n",
        "import os\n",
        "file_size = os.path.getsize(\"data.txt\")\n",
        "print(\"File size:\", file_size, \"bytes\")"
      ],
      "cell_type": "code",
      "metadata": {
        "colab": {
          "base_uri": "https://localhost:8080/"
        },
        "id": "-ZNas1UJd5Zn",
        "outputId": "8f425d77-f6b0-44b9-99f8-7cba4973047d"
      },
      "execution_count": 29,
      "outputs": [
        {
          "output_type": "stream",
          "name": "stdout",
          "text": [
            "File size: 31 bytes\n"
          ]
        }
      ]
    }
  ]
}