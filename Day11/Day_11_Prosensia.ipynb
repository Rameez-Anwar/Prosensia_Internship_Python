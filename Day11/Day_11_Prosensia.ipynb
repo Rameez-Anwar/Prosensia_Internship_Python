{
  "nbformat": 4,
  "nbformat_minor": 0,
  "metadata": {
    "colab": {
      "provenance": [],
      "authorship_tag": "ABX9TyMXa6jNFXYkOAs2Lf1eIDKQ"
    },
    "kernelspec": {
      "name": "python3",
      "display_name": "Python 3"
    },
    "language_info": {
      "name": "python"
    }
  },
  "cells": [
    {
      "cell_type": "code",
      "execution_count": 2,
      "metadata": {
        "colab": {
          "base_uri": "https://localhost:8080/"
        },
        "id": "_VpF4VvUwIVY",
        "outputId": "ec72bfa0-a63f-4a8d-bf12-d796e652c21e"
      },
      "outputs": [
        {
          "output_type": "execute_result",
          "data": {
            "text/plain": [
              "123"
            ]
          },
          "metadata": {},
          "execution_count": 2
        }
      ],
      "source": [
        "# 1.Convert String to int\n",
        "def convert_to_int(string):\n",
        "    try:\n",
        "        return int(string)\n",
        "    except ValueError:\n",
        "        return None\n",
        "convert_to_int(\"123\")"
      ]
    },
    {
      "cell_type": "code",
      "source": [
        "# 2.Integer to String\n",
        "def convert_to_string(integer):\n",
        "    try:\n",
        "      return str(integer)\n",
        "    except ValueError:\n",
        "      return None\n",
        "convert_to_string(123)"
      ],
      "metadata": {
        "colab": {
          "base_uri": "https://localhost:8080/",
          "height": 36
        },
        "id": "IBSdcgfJwpvs",
        "outputId": "63e3d1bd-16f8-4219-c708-0b11d978fca1"
      },
      "execution_count": 3,
      "outputs": [
        {
          "output_type": "execute_result",
          "data": {
            "text/plain": [
              "'123'"
            ],
            "application/vnd.google.colaboratory.intrinsic+json": {
              "type": "string"
            }
          },
          "metadata": {},
          "execution_count": 3
        }
      ]
    },
    {
      "cell_type": "code",
      "source": [
        "# 3. Float to int\n",
        "def convert_to_int(float_number):\n",
        "    try:\n",
        "      return int(float_number)\n",
        "    except ValueError:\n",
        "      return None\n",
        "convert_to_int(123.45)"
      ],
      "metadata": {
        "colab": {
          "base_uri": "https://localhost:8080/"
        },
        "id": "sbvjb33Bw0xb",
        "outputId": "47b86890-92e0-4935-c9f8-b3e0aeefcc74"
      },
      "execution_count": 4,
      "outputs": [
        {
          "output_type": "execute_result",
          "data": {
            "text/plain": [
              "123"
            ]
          },
          "metadata": {},
          "execution_count": 4
        }
      ]
    },
    {
      "cell_type": "code",
      "source": [
        "# 4. Convert List of Strings to List of Integers\n",
        "def convert_to_int_list(str_list):\n",
        "  int_list = []\n",
        "  for s in str_list:\n",
        "    try:\n",
        "      int_list.append(int(s))\n",
        "    except ValueError:\n",
        "      pass\n",
        "  return int_list\n",
        "convert_to_int_list([\"1\", \"2\", \"3\", \"4\", \"5\"])"
      ],
      "metadata": {
        "colab": {
          "base_uri": "https://localhost:8080/"
        },
        "id": "4Vnp-QgFxAfW",
        "outputId": "bd5c77e4-4c1c-43e2-b65c-06a1c2ab3b71"
      },
      "execution_count": 5,
      "outputs": [
        {
          "output_type": "execute_result",
          "data": {
            "text/plain": [
              "[1, 2, 3, 4, 5]"
            ]
          },
          "metadata": {},
          "execution_count": 5
        }
      ]
    },
    {
      "cell_type": "code",
      "source": [
        "# 5. Addition of two numbers\n",
        "def sum(a,b):\n",
        "  return a+b\n",
        "sum(1,2)"
      ],
      "metadata": {
        "colab": {
          "base_uri": "https://localhost:8080/"
        },
        "id": "2ssDgH1Vxgzm",
        "outputId": "e197aafe-c3d8-469a-d4bb-7a14ff98a994"
      },
      "execution_count": 7,
      "outputs": [
        {
          "output_type": "execute_result",
          "data": {
            "text/plain": [
              "3"
            ]
          },
          "metadata": {},
          "execution_count": 7
        }
      ]
    },
    {
      "cell_type": "code",
      "source": [
        "# 6. Substraction of two numbers\n",
        "def sub(a,b):\n",
        "  return a-b\n",
        "sub(1,2)"
      ],
      "metadata": {
        "colab": {
          "base_uri": "https://localhost:8080/"
        },
        "id": "Ur20wUs1xuLb",
        "outputId": "5f60a2ad-6427-46e4-de98-6052ab4df559"
      },
      "execution_count": 8,
      "outputs": [
        {
          "output_type": "execute_result",
          "data": {
            "text/plain": [
              "-1"
            ]
          },
          "metadata": {},
          "execution_count": 8
        }
      ]
    },
    {
      "cell_type": "code",
      "source": [
        "# 7. Multiplication of two numbers\n",
        "def mul(a,b):\n",
        "  return a*b\n",
        "mul(1,2)"
      ],
      "metadata": {
        "colab": {
          "base_uri": "https://localhost:8080/"
        },
        "id": "ct1mey6_x1zW",
        "outputId": "7e0bcf59-f354-4aeb-b4dd-7273f93cab09"
      },
      "execution_count": 9,
      "outputs": [
        {
          "output_type": "execute_result",
          "data": {
            "text/plain": [
              "2"
            ]
          },
          "metadata": {},
          "execution_count": 9
        }
      ]
    },
    {
      "cell_type": "code",
      "source": [
        "# 8. Division of two numbers\n",
        "def div(a,b):\n",
        "  if b == 0:\n",
        "    return None\n",
        "  else:\n",
        "    return a/b\n",
        "div(1,2)"
      ],
      "metadata": {
        "colab": {
          "base_uri": "https://localhost:8080/"
        },
        "id": "tSQBttujx_UX",
        "outputId": "9758865b-50f1-496e-d100-fa81c7ce0770"
      },
      "execution_count": 11,
      "outputs": [
        {
          "output_type": "execute_result",
          "data": {
            "text/plain": [
              "0.5"
            ]
          },
          "metadata": {},
          "execution_count": 11
        }
      ]
    },
    {
      "cell_type": "code",
      "source": [
        "# 9. Concat two strings\n",
        "def concat(a,b):\n",
        "  try:\n",
        "    return a+b\n",
        "  except TypeError:\n",
        "    return None\n",
        "concat(\"Rameez\",\"Anwar\")\n"
      ],
      "metadata": {
        "colab": {
          "base_uri": "https://localhost:8080/",
          "height": 36
        },
        "id": "dquBF7i9yP1z",
        "outputId": "af61f969-675a-40cd-bbee-10a055f0ff20"
      },
      "execution_count": 21,
      "outputs": [
        {
          "output_type": "execute_result",
          "data": {
            "text/plain": [
              "'RameezAnwar'"
            ],
            "application/vnd.google.colaboratory.intrinsic+json": {
              "type": "string"
            }
          },
          "metadata": {},
          "execution_count": 21
        }
      ]
    },
    {
      "cell_type": "code",
      "source": [
        "# 10. Reverse a string\n",
        "def r(a):\n",
        "  reverse=a[::-1]\n",
        "  return reverse\n",
        "r(\"rameez\")"
      ],
      "metadata": {
        "colab": {
          "base_uri": "https://localhost:8080/",
          "height": 36
        },
        "id": "84ZDMhzuzInH",
        "outputId": "cf8972b6-3da0-43fe-8218-e3d14afaec9d"
      },
      "execution_count": 23,
      "outputs": [
        {
          "output_type": "execute_result",
          "data": {
            "text/plain": [
              "'zeemar'"
            ],
            "application/vnd.google.colaboratory.intrinsic+json": {
              "type": "string"
            }
          },
          "metadata": {},
          "execution_count": 23
        }
      ]
    }
  ]
}