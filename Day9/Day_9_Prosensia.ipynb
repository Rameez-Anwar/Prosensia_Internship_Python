{
  "nbformat": 4,
  "nbformat_minor": 0,
  "metadata": {
    "colab": {
      "provenance": [],
      "authorship_tag": "ABX9TyMkzfrt//aXZ3A99neQu7eJ"
    },
    "kernelspec": {
      "name": "python3",
      "display_name": "Python 3"
    },
    "language_info": {
      "name": "python"
    }
  },
  "cells": [
    {
      "cell_type": "code",
      "execution_count": 8,
      "metadata": {
        "colab": {
          "base_uri": "https://localhost:8080/"
        },
        "id": "d7fwspIanAJI",
        "outputId": "1141cf7b-18e5-4499-a8dc-b319af96bc9a"
      },
      "outputs": [
        {
          "output_type": "stream",
          "name": "stdout",
          "text": [
            "Enter a number: 25\n",
            "Enter a number: 12\n",
            "Enter a number: 3\n",
            "Enter a number: 2\n",
            "Enter a number: 5\n",
            "Enter a number: 9\n",
            "Enter a number: done\n",
            "Sum: 56.0\n",
            "Average: 9.333333333333334\n"
          ]
        }
      ],
      "source": [
        "# 1. Sum and Average\n",
        "sum = 0\n",
        "count = 0\n",
        "while True:\n",
        "    n = input(\"Enter a number: \")\n",
        "    if n == \"done\":\n",
        "      break\n",
        "    n=float(n)\n",
        "    sum += n\n",
        "    count += 1\n",
        "    average = sum / count\n",
        "\n",
        "print(\"Sum:\", sum)\n",
        "print(\"Average:\", average)"
      ]
    },
    {
      "cell_type": "code",
      "source": [
        "# 2. Filtering Values\n",
        "def filter_greater_than(num, threshold):\n",
        "    for number in num:\n",
        "        if number > threshold:\n",
        "            print(number)\n",
        "\n",
        "num = [10, 23, 5, 18, 7, 30, 12]\n",
        "threshold = 15\n",
        "filter_greater_than(num, threshold)\n"
      ],
      "metadata": {
        "colab": {
          "base_uri": "https://localhost:8080/"
        },
        "id": "4eveoNKmtGIk",
        "outputId": "b051f522-1ba8-4319-fb7f-01f73a7e9782"
      },
      "execution_count": 10,
      "outputs": [
        {
          "output_type": "stream",
          "name": "stdout",
          "text": [
            "23\n",
            "18\n",
            "30\n"
          ]
        }
      ]
    },
    {
      "cell_type": "code",
      "source": [
        "# 3. Min and Max number\n",
        "def sl(num):\n",
        "  max =-1\n",
        "  for n in num:\n",
        "    if n>max:\n",
        "      max=n\n",
        "  for n in num:\n",
        "    min=num[0]\n",
        "    if n<min:\n",
        "      min=n\n",
        "  print(\"Maximum number\",max)\n",
        "  print(\"Minimum number\",2min)\n",
        "numbers=[]\n",
        "while True:\n",
        "  n=input(\"Enter a number: \")\n",
        "  if n==\"done\":\n",
        "    break\n",
        "  numbers.append(float(n))\n",
        "sl(numbers)\n"
      ],
      "metadata": {
        "colab": {
          "base_uri": "https://localhost:8080/"
        },
        "id": "oRzei3AmtuE7",
        "outputId": "4266436b-34f4-49cf-d953-f6b06c4e6693"
      },
      "execution_count": 18,
      "outputs": [
        {
          "output_type": "stream",
          "name": "stdout",
          "text": [
            "Enter a number: 50\n",
            "Enter a number: 20\n",
            "Enter a number: 5\n",
            "Enter a number: 3\n",
            "Enter a number: done\n",
            "Maximum number 50.0\n",
            "Minimum number 3.0\n"
          ]
        }
      ]
    },
    {
      "cell_type": "code",
      "source": [
        "# 4. Removing Duplicates\n",
        "def duplicate(num):\n",
        "    unique = []\n",
        "    for n in num:\n",
        "        if n not in unique:\n",
        "            unique.append(n)\n",
        "    return unique\n",
        "\n",
        "num = [10, 20, 30, 40, 20, 50, 60, 40]\n",
        "print(duplicate(num))"
      ],
      "metadata": {
        "colab": {
          "base_uri": "https://localhost:8080/"
        },
        "id": "8VNcWPVjw-Aq",
        "outputId": "a3f3f036-bde5-4456-d955-8fa7a68fbd29"
      },
      "execution_count": 19,
      "outputs": [
        {
          "output_type": "stream",
          "name": "stdout",
          "text": [
            "[10, 20, 30, 40, 50, 60]\n"
          ]
        }
      ]
    },
    {
      "cell_type": "code",
      "source": [
        "# 5. while and continue\n",
        "while True:\n",
        "  text=input(\"Enter a text: \")\n",
        "  if text =='done':\n",
        "    break\n",
        "  elif text[0]=='#':\n",
        "    continue\n",
        "\n",
        "  print(text)\n"
      ],
      "metadata": {
        "colab": {
          "base_uri": "https://localhost:8080/"
        },
        "id": "y_aPIlZvxZ7D",
        "outputId": "eedc06bb-a498-4191-a17b-debf3f20ffee"
      },
      "execution_count": 24,
      "outputs": [
        {
          "name": "stdout",
          "output_type": "stream",
          "text": [
            "Enter a text: Hello! My name is Rameez\n",
            "Hello! My name is Rameez\n",
            "Enter a text: #Skip this line\n",
            "Enter a text: I'm writing a code\n",
            "I'm writing a code\n",
            "Enter a text: done\n"
          ]
        }
      ]
    },
    {
      "cell_type": "code",
      "source": [
        "# 6. Infinite Loop Prevention\n",
        "predefined=7\n",
        "max_attempts=10\n",
        "attempts=0\n",
        "\n",
        "while attempts<max_attempts:\n",
        "  user=int(input(\"Enter a number: \"))\n",
        "  attempts+=1\n",
        "  if attempts==max_attempts:\n",
        "    print(\"You have reached the maximum number of attempts\")\n",
        "    break\n",
        "  elif user==predefined:\n",
        "    print(\"Congratulations you guess a correct number\")\n",
        "    break\n",
        "  else:\n",
        "    print(\"Try again, Attempts left\", max_attempts-attempts)"
      ],
      "metadata": {
        "colab": {
          "base_uri": "https://localhost:8080/"
        },
        "id": "9uW4Lsvn0RQ6",
        "outputId": "0f0cf3a2-f8c1-4cbf-cc2d-1f347c0b7194"
      },
      "execution_count": 31,
      "outputs": [
        {
          "output_type": "stream",
          "name": "stdout",
          "text": [
            "Enter a number: 9\n",
            "Try again, Attempts left 9\n",
            "Enter a number: 2\n",
            "Try again, Attempts left 8\n",
            "Enter a number: 3\n",
            "Try again, Attempts left 7\n",
            "Enter a number: 4\n",
            "Try again, Attempts left 6\n",
            "Enter a number: 1\n",
            "Try again, Attempts left 5\n",
            "Enter a number: 7\n",
            "Congratulations you guess a correct number\n"
          ]
        }
      ]
    },
    {
      "cell_type": "code",
      "source": [
        "#7. Sum of Squares\n",
        "N = int(input(\"Enter the value of N: \"))\n",
        "sum_squares = 0\n",
        "for i in range(1, N + 1):\n",
        "    sum_squares += i ** 2\n",
        "\n",
        "print(f\"The sum of the squares of the first {N} natural numbers is: {sum_squares}\")\n"
      ],
      "metadata": {
        "colab": {
          "base_uri": "https://localhost:8080/"
        },
        "id": "4f0JOjPf23o-",
        "outputId": "1090eea7-a3b1-410f-baf5-9ce2e11d43e9"
      },
      "execution_count": 32,
      "outputs": [
        {
          "output_type": "stream",
          "name": "stdout",
          "text": [
            "Enter the value of N: 5\n",
            "The sum of the squares of the first 5 natural numbers is: 55\n"
          ]
        }
      ]
    },
    {
      "cell_type": "code",
      "source": [
        "#8. reverse a string\n",
        "text=input(\"Enter a text: \")\n",
        "for i in text:\n",
        "  reverse = text[::-1]\n",
        "print(reverse)"
      ],
      "metadata": {
        "colab": {
          "base_uri": "https://localhost:8080/"
        },
        "id": "sNTbk2fw3qIY",
        "outputId": "45d1ef14-fe69-4266-c89f-7bbdbe6e45db"
      },
      "execution_count": 38,
      "outputs": [
        {
          "output_type": "stream",
          "name": "stdout",
          "text": [
            "Enter a text: ABCDE\n",
            "EDCBA\n"
          ]
        }
      ]
    },
    {
      "cell_type": "code",
      "source": [
        "#9.Fibonacci sequence\n",
        "def fibonacci_sequence(N):\n",
        "    a, b = 0, 1\n",
        "    for _ in range(N):\n",
        "        print(a, end=' ')\n",
        "        a, b = b, a + b\n",
        "    print()\n",
        "\n",
        "N = int(input(\"Enter the number : \"))\n",
        "\n",
        "fibonacci_sequence(N)\n"
      ],
      "metadata": {
        "colab": {
          "base_uri": "https://localhost:8080/"
        },
        "id": "5IG8uocG4f76",
        "outputId": "fdca1d66-b815-42dd-f7e5-be133c0924e2"
      },
      "execution_count": 40,
      "outputs": [
        {
          "output_type": "stream",
          "name": "stdout",
          "text": [
            "Enter the number : 5\n",
            "0 1 1 2 3 \n"
          ]
        }
      ]
    }
  ]
}