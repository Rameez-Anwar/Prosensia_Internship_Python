{
  "nbformat": 4,
  "nbformat_minor": 0,
  "metadata": {
    "colab": {
      "provenance": [],
      "authorship_tag": "ABX9TyOG5Ug22VTCkiHav0qPd/sg"
    },
    "kernelspec": {
      "name": "python3",
      "display_name": "Python 3"
    },
    "language_info": {
      "name": "python"
    }
  },
  "cells": [
    {
      "cell_type": "markdown",
      "source": [
        "> # Name    :  Rameez Anwar\n",
        "> # Course  : Python <br>\n",
        "> # Compant : Prosensia <br>\n",
        "> # Day     : 5"
      ],
      "metadata": {
        "id": "1XyfxXVuPEW7"
      }
    },
    {
      "cell_type": "code",
      "execution_count": null,
      "metadata": {
        "colab": {
          "base_uri": "https://localhost:8080/"
        },
        "id": "SzKNiQCsNibK",
        "outputId": "24dcb8d1-a7ab-4bc7-fc48-34762c4a9157"
      },
      "outputs": [
        {
          "output_type": "stream",
          "name": "stdout",
          "text": [
            "\n",
            "\n",
            "1. Hi! I'm Rameez, a BS AI student. My ultimate goal is to become a successful AI/ML engineer.\n",
            "\n",
            "\n",
            "\n",
            "2. This field excites me because it allows me to combine my passion for technology with the power\n",
            " of intelligent systems. I believe AI/ML has the potential to revolutionize various industries \n",
            " and improve lives.\n",
            "\n",
            "\n",
            "\n",
            "3. To achieve this goal, I'm focusing on:\n",
            "\n",
            "  - Mastering core AI/ML concepts like machine learning algorithms, deep learning, and data analysis.\n",
            "  - Building a strong foundation in programming languages like Python and R.\n",
            "  - Gaining practical experience through personal projects and contributing to open-source initiatives.\n",
            "\n",
            "\n",
            "\n",
            "4. Challenges I expect include the constant evolution of the field and the vast amount of knowledge \n",
            "required. But I plan to overcome them by staying updated with the latest advancements, continuously \n",
            "learning through online resources and courses, and seeking guidance from experienced professionals.\n",
            "\n",
            "\n",
            "\n",
            "5. Success for me means not just landing a dream job as an AI/ML engineer, but also using my skills \n",
            "to create impactful solutions that contribute to the positive development of AI technology.\n",
            "\n"
          ]
        }
      ],
      "source": [
        "print('''\n",
        "\n",
        "1. Hi! I'm Rameez, a BS AI student. My ultimate goal is to become a successful AI/ML engineer.\n",
        "''')\n",
        "\n",
        "print('''\n",
        "\n",
        "2. This field excites me because it allows me to combine my passion for technology with the power\n",
        " of intelligent systems. I believe AI/ML has the potential to revolutionize various industries\n",
        " and improve lives.\n",
        "''')\n",
        "\n",
        "print('''\n",
        "\n",
        "3. To achieve this goal, I'm focusing on:\n",
        "\n",
        "  - Mastering core AI/ML concepts like machine learning algorithms, deep learning, and data analysis.\n",
        "  - Building a strong foundation in programming languages like Python and R.\n",
        "  - Gaining practical experience through personal projects and contributing to open-source initiatives.\n",
        "''')\n",
        "\n",
        "print('''\n",
        "\n",
        "4. Challenges I expect include the constant evolution of the field and the vast amount of knowledge\n",
        "required. But I plan to overcome them by staying updated with the latest advancements, continuously\n",
        "learning through online resources and courses, and seeking guidance from experienced professionals.\n",
        "''')\n",
        "\n",
        "print('''\n",
        "\n",
        "5. Success for me means not just landing a dream job as an AI/ML engineer, but also using my skills\n",
        "to create impactful solutions that contribute to the positive development of AI technology.\n",
        "''')\n"
      ]
    }
  ]
}