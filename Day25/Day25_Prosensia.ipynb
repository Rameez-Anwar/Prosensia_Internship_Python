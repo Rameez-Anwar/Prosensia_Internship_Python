{
  "nbformat": 4,
  "nbformat_minor": 0,
  "metadata": {
    "colab": {
      "provenance": [],
      "authorship_tag": "ABX9TyM3ONUEfNwTpX3KyxopiZBy"
    },
    "kernelspec": {
      "name": "python3",
      "display_name": "Python 3"
    },
    "language_info": {
      "name": "python"
    }
  },
  "cells": [
    {
      "cell_type": "code",
      "execution_count": 1,
      "metadata": {
        "colab": {
          "base_uri": "https://localhost:8080/"
        },
        "id": "mlLsjLr2i_rW",
        "outputId": "f91e0821-d503-4a90-a2a5-f5a1ae45fb82"
      },
      "outputs": [
        {
          "output_type": "stream",
          "name": "stdout",
          "text": [
            "Expense Tracker\n",
            "1. Add a New Expense\n",
            "2. Display Expense Summary\n",
            "3. Exit Program\n",
            "Enter your choice (1-3): 1\n",
            "Enter expense amount: 2500\n",
            "Enter expense category (e.g., food, transportation, entertainment): Food\n",
            "Enter a brief description of the expense: Pizza\n",
            "Expense of 2500.0 in category 'Food' added successfully.\n",
            "\n",
            "Expense Tracker\n",
            "1. Add a New Expense\n",
            "2. Display Expense Summary\n",
            "3. Exit Program\n",
            "Enter your choice (1-3): 2\n",
            "Expense Summary by Category:\n",
            "Category: Food, Total Spent: 2500.00\n",
            "\n",
            "Expense Tracker\n",
            "1. Add a New Expense\n",
            "2. Display Expense Summary\n",
            "3. Exit Program\n",
            "Enter your choice (1-3): 3\n",
            "Exiting the program. Goodbye!\n"
          ]
        }
      ],
      "source": [
        "def add_expense(expenses):\n",
        "\n",
        "    try:\n",
        "        amount = float(input(\"Enter expense amount: \").strip())\n",
        "        if amount <= 0:\n",
        "            print(\"Amount must be positive.\\n\")\n",
        "            return\n",
        "\n",
        "        category = input(\"Enter expense category (e.g., food, transportation, entertainment): \").strip()\n",
        "        description = input(\"Enter a brief description of the expense: \").strip()\n",
        "\n",
        "        expense = {\n",
        "            \"amount\": amount,\n",
        "            \"category\": category,\n",
        "            \"description\": description\n",
        "        }\n",
        "\n",
        "        expenses.append(expense)\n",
        "        print(f\"Expense of {amount} in category '{category}' added successfully.\\n\")\n",
        "    except ValueError:\n",
        "        print(\"Invalid amount entered. Please try again.\\n\")\n",
        "\n",
        "\n",
        "def display_summary(expenses):\n",
        "\n",
        "    if not expenses:\n",
        "        print(\"No expenses to display.\\n\")\n",
        "        return\n",
        "\n",
        "    summary = {}\n",
        "    for expense in expenses:\n",
        "        category = expense[\"category\"]\n",
        "        amount = expense[\"amount\"]\n",
        "        if category in summary:\n",
        "            summary[category] += amount\n",
        "        else:\n",
        "            summary[category] = amount\n",
        "\n",
        "    print(\"Expense Summary by Category:\")\n",
        "    for category, total in summary.items():\n",
        "        print(f\"Category: {category}, Total Spent: {total:.2f}\")\n",
        "    print()\n",
        "\n",
        "\n",
        "def main():\n",
        "\n",
        "    expenses = []\n",
        "\n",
        "    while True:\n",
        "        print(\"Expense Tracker\")\n",
        "        print(\"1. Add a New Expense\")\n",
        "        print(\"2. Display Expense Summary\")\n",
        "        print(\"3. Exit Program\")\n",
        "\n",
        "        choice = input(\"Enter your choice (1-3): \").strip()\n",
        "\n",
        "        if choice == '1':\n",
        "            add_expense(expenses)\n",
        "        elif choice == '2':\n",
        "            display_summary(expenses)\n",
        "        elif choice == '3':\n",
        "            print(\"Exiting the program. Goodbye!\")\n",
        "            break\n",
        "        else:\n",
        "            print(\"Invalid choice. Please try again.\\n\")\n",
        "\n",
        "\n",
        "if __name__ == \"__main__\":\n",
        "    main()\n"
      ]
    }
  ]
}