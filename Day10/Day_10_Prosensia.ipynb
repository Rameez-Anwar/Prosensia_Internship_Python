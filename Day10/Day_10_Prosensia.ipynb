{
  "nbformat": 4,
  "nbformat_minor": 0,
  "metadata": {
    "colab": {
      "provenance": [],
      "authorship_tag": "ABX9TyPudGFrpdNqbpx1Yn3lfDPW"
    },
    "kernelspec": {
      "name": "python3",
      "display_name": "Python 3"
    },
    "language_info": {
      "name": "python"
    }
  },
  "cells": [
    {
      "cell_type": "code",
      "execution_count": 2,
      "metadata": {
        "colab": {
          "base_uri": "https://localhost:8080/"
        },
        "id": "fEkqiQkoOh1c",
        "outputId": "765dbeea-bd99-4a3d-bd59-421e7f100104"
      },
      "outputs": [
        {
          "output_type": "execute_result",
          "data": {
            "text/plain": [
              "1518"
            ]
          },
          "metadata": {},
          "execution_count": 2
        }
      ],
      "source": [
        "# Concatenation and Conversion\n",
        "def concatenate_and_convert(str1, str2):\n",
        "    concatenated = str1 + str2\n",
        "    if concatenated.isdigit():\n",
        "        return int(concatenated)\n",
        "    else:\n",
        "        return concatenated\n",
        "concatenate_and_convert(\"15\", \"18\")\n"
      ]
    },
    {
      "cell_type": "code",
      "source": [
        "#String Indexing\n",
        "def char_at_index(s, index):\n",
        "    try:\n",
        "        return s[index]\n",
        "    except IndexError:\n",
        "        return \"Index out of bounds\"\n",
        "char_at_index(\"hello\", 4)"
      ],
      "metadata": {
        "colab": {
          "base_uri": "https://localhost:8080/",
          "height": 36
        },
        "id": "33NqOlaDSRW2",
        "outputId": "0553bccc-0431-47b0-f022-6fde9f77b9f7"
      },
      "execution_count": 4,
      "outputs": [
        {
          "output_type": "execute_result",
          "data": {
            "text/plain": [
              "'o'"
            ],
            "application/vnd.google.colaboratory.intrinsic+json": {
              "type": "string"
            }
          },
          "metadata": {},
          "execution_count": 4
        }
      ]
    },
    {
      "cell_type": "code",
      "source": [
        "# String Length\n",
        "def lengths_of_strings(strings):\n",
        "    return [len(s) for s in strings]\n",
        "lengths_of_strings([\"hello\", \"world\"])"
      ],
      "metadata": {
        "colab": {
          "base_uri": "https://localhost:8080/"
        },
        "id": "QGCw_mC9SbSL",
        "outputId": "d3daade0-747e-44fd-8a19-8e302efab943"
      },
      "execution_count": 5,
      "outputs": [
        {
          "output_type": "execute_result",
          "data": {
            "text/plain": [
              "[5, 5]"
            ]
          },
          "metadata": {},
          "execution_count": 5
        }
      ]
    },
    {
      "cell_type": "code",
      "source": [
        "#Looping Through Strings\n",
        "def print_chars_with_indices(s):\n",
        "    for index, char in enumerate(s):\n",
        "        print(f\"Index {index}: {char}\")\n",
        "print_chars_with_indices(\"hello\")"
      ],
      "metadata": {
        "colab": {
          "base_uri": "https://localhost:8080/"
        },
        "id": "69ZHrdGKSgm1",
        "outputId": "a7042e97-1c54-43dc-b54d-5381994a5957"
      },
      "execution_count": 6,
      "outputs": [
        {
          "output_type": "stream",
          "name": "stdout",
          "text": [
            "Index 0: h\n",
            "Index 1: e\n",
            "Index 2: l\n",
            "Index 3: l\n",
            "Index 4: o\n"
          ]
        }
      ]
    },
    {
      "cell_type": "code",
      "source": [
        "#Character Counting.\n",
        "def count_char(s, char):\n",
        "    return s.count(char)\n",
        "count_char(\"hello\", \"l\")"
      ],
      "metadata": {
        "colab": {
          "base_uri": "https://localhost:8080/"
        },
        "id": "TGKCL045SlW2",
        "outputId": "92272081-291e-49fe-ca06-358c5272ac38"
      },
      "execution_count": 7,
      "outputs": [
        {
          "output_type": "execute_result",
          "data": {
            "text/plain": [
              "2"
            ]
          },
          "metadata": {},
          "execution_count": 7
        }
      ]
    },
    {
      "cell_type": "code",
      "source": [
        "#String Slicing\n",
        "def substring_between_indices(s, start_index, end_index):\n",
        "    start_index = max(0, start_index)\n",
        "    end_index = min(len(s), end_index)\n",
        "    return s[start_index:end_index]\n",
        "substring_between_indices(\"hello\", 1, 4)"
      ],
      "metadata": {
        "colab": {
          "base_uri": "https://localhost:8080/",
          "height": 36
        },
        "id": "XO-d22KPSp8e",
        "outputId": "09b10a14-6257-4e07-9b44-b7f63c059b6e"
      },
      "execution_count": 8,
      "outputs": [
        {
          "output_type": "execute_result",
          "data": {
            "text/plain": [
              "'ell'"
            ],
            "application/vnd.google.colaboratory.intrinsic+json": {
              "type": "string"
            }
          },
          "metadata": {},
          "execution_count": 8
        }
      ]
    },
    {
      "cell_type": "code",
      "source": [
        "#String Comparison\n",
        "def compare_strings(str1, str2):\n",
        "    if str1 < str2:\n",
        "        return \"First string comes before the second string.\"\n",
        "    elif str1 > str2:\n",
        "        return \"First string comes after the second string.\"\n",
        "    else:\n",
        "        return \"Both strings are equal.\"\n",
        "compare_strings(\"hello\", \"world\")"
      ],
      "metadata": {
        "colab": {
          "base_uri": "https://localhost:8080/",
          "height": 36
        },
        "id": "dQmDYsLvSvCW",
        "outputId": "16efbafe-f7d3-4986-a08e-ca34408e56fe"
      },
      "execution_count": 9,
      "outputs": [
        {
          "output_type": "execute_result",
          "data": {
            "text/plain": [
              "'First string comes before the second string.'"
            ],
            "application/vnd.google.colaboratory.intrinsic+json": {
              "type": "string"
            }
          },
          "metadata": {},
          "execution_count": 9
        }
      ]
    },
    {
      "cell_type": "code",
      "source": [
        "#String Methods\n",
        "def transform_string(s):\n",
        "    return {\n",
        "        \"lowercase\": s.lower(),\n",
        "        \"uppercase\": s.upper(),\n",
        "        \"titlecase\": s.title()\n",
        "    }\n",
        "transform_string(\"Hello\")"
      ],
      "metadata": {
        "colab": {
          "base_uri": "https://localhost:8080/"
        },
        "id": "0pODaZkwS12G",
        "outputId": "b8a54bcb-c309-4bf8-ddee-00744f7bc6c7"
      },
      "execution_count": 10,
      "outputs": [
        {
          "output_type": "execute_result",
          "data": {
            "text/plain": [
              "{'lowercase': 'hello', 'uppercase': 'HELLO', 'titlecase': 'Hello'}"
            ]
          },
          "metadata": {},
          "execution_count": 10
        }
      ]
    },
    {
      "cell_type": "code",
      "source": [
        "#Search and Replace\n",
        "from re import search\n",
        "def search_and_replace(s, search_term, replacement_term):\n",
        "    return s.replace(search_term, replacement_term)\n",
        "search_and_replace(\"Hello world\", \"world\", \"Python\")"
      ],
      "metadata": {
        "colab": {
          "base_uri": "https://localhost:8080/",
          "height": 36
        },
        "id": "x_cBv52rS9H1",
        "outputId": "092ab326-f77a-4315-8ae0-0b7018a800a2"
      },
      "execution_count": 11,
      "outputs": [
        {
          "output_type": "execute_result",
          "data": {
            "text/plain": [
              "'Hello Python'"
            ],
            "application/vnd.google.colaboratory.intrinsic+json": {
              "type": "string"
            }
          },
          "metadata": {},
          "execution_count": 11
        }
      ]
    },
    {
      "cell_type": "code",
      "source": [
        "#Whitespace Removal\n",
        "def remove_whitespace(s):\n",
        "    return ' '.join(s.split())\n",
        "remove_whitespace(\"Hello   world\")"
      ],
      "metadata": {
        "colab": {
          "base_uri": "https://localhost:8080/",
          "height": 36
        },
        "id": "jSUZhjdKTDnl",
        "outputId": "1c10ff07-e270-407d-9dc8-77449d67997c"
      },
      "execution_count": 12,
      "outputs": [
        {
          "output_type": "execute_result",
          "data": {
            "text/plain": [
              "'Hello world'"
            ],
            "application/vnd.google.colaboratory.intrinsic+json": {
              "type": "string"
            }
          },
          "metadata": {},
          "execution_count": 12
        }
      ]
    }
  ]
}