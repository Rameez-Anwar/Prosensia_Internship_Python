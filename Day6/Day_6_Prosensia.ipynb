{
  "nbformat": 4,
  "nbformat_minor": 0,
  "metadata": {
    "colab": {
      "provenance": [],
      "authorship_tag": "ABX9TyPe1QPv/dEhLfnGlD3yqVV3"
    },
    "kernelspec": {
      "name": "python3",
      "display_name": "Python 3"
    },
    "language_info": {
      "name": "python"
    }
  },
  "cells": [
    {
      "cell_type": "code",
      "execution_count": 1,
      "metadata": {
        "colab": {
          "base_uri": "https://localhost:8080/"
        },
        "id": "mgzDwSDSaXie",
        "outputId": "36f51c3c-281d-4425-a5b8-5f2125c4d15f"
      },
      "outputs": [
        {
          "output_type": "stream",
          "name": "stdout",
          "text": [
            "Enter hours worked: 35\n",
            "Enter hourly rate: 2.75\n",
            "96.25\n"
          ]
        }
      ],
      "source": [
        "#calculate gross pay\n",
        "hours_worked=input(\"Enter hours worked: \")\n",
        "hourly_rate=input(\"Enter hourly rate: \")\n",
        "gross_pay=float(hours_worked)*float(hourly_rate)\n",
        "print(gross_pay)"
      ]
    },
    {
      "cell_type": "code",
      "source": [
        "#temperature conversion\n",
        "celsius=input(\"Enter temperature in Celsius: \")\n",
        "fahrenheit=(float(celsius)*9/5)+32\n",
        "print(fahrenheit)"
      ],
      "metadata": {
        "colab": {
          "base_uri": "https://localhost:8080/"
        },
        "id": "9YLotdcla7b_",
        "outputId": "3214f220-d486-4ef6-9a50-ad7cb27f41f8"
      },
      "execution_count": 2,
      "outputs": [
        {
          "output_type": "stream",
          "name": "stdout",
          "text": [
            "Enter temperature in Celsius: 37\n",
            "98.6\n"
          ]
        }
      ]
    },
    {
      "cell_type": "code",
      "source": [
        "#Number sign check\n",
        "number=float(input(\"Enter a number: \"))\n",
        "if number>0:\n",
        "    print(\"Positive\")\n",
        "elif number<0:\n",
        "    print(\"Negative\")\n",
        "else:\n",
        "    print(\"Zero\")"
      ],
      "metadata": {
        "colab": {
          "base_uri": "https://localhost:8080/"
        },
        "id": "8iZgnNYgbP_h",
        "outputId": "47abe426-7dbb-4cde-dac3-475da0d9b41d"
      },
      "execution_count": 4,
      "outputs": [
        {
          "output_type": "stream",
          "name": "stdout",
          "text": [
            "Enter a number: -2\n",
            "Negative\n"
          ]
        }
      ]
    },
    {
      "cell_type": "code",
      "source": [
        "#leap year checker\n",
        "year=int(input(\"Enter a year: \"))\n",
        "if year%4==0:\n",
        "    print(\"Leap year\")\n",
        "else:\n",
        "    print(\"Not a leap year\")"
      ],
      "metadata": {
        "colab": {
          "base_uri": "https://localhost:8080/"
        },
        "id": "fRQ5EBIMbmUK",
        "outputId": "51f27064-6920-4937-fdb8-a90c02c401f3"
      },
      "execution_count": 7,
      "outputs": [
        {
          "output_type": "stream",
          "name": "stdout",
          "text": [
            "Enter a year: 2024\n",
            "Leap year\n"
          ]
        }
      ]
    },
    {
      "cell_type": "code",
      "source": [
        "#basic arthematic operations\n",
        "number1= float(input(\"Enter first number: \"))\n",
        "number2= float(input(\"Enter second number: \"))\n",
        "print(\"Addition: \",number1+number2)\n",
        "print(\"Subtraction: \",number1-number2)\n",
        "print(\"Multiplication: \",number1*number2)\n",
        "print(\"Division: \",number1/number2)"
      ],
      "metadata": {
        "colab": {
          "base_uri": "https://localhost:8080/"
        },
        "id": "nIae5Bwnb1nS",
        "outputId": "99103ae4-e368-416f-ca5e-0726e16bd3a6"
      },
      "execution_count": 8,
      "outputs": [
        {
          "output_type": "stream",
          "name": "stdout",
          "text": [
            "Enter first number: 22\n",
            "Enter second number: 25\n",
            "Addition:  47.0\n",
            "Subtraction:  -3.0\n",
            "Multiplication:  550.0\n",
            "Division:  0.88\n"
          ]
        }
      ]
    },
    {
      "cell_type": "code",
      "source": [
        "#calculate factorial\n",
        "number=int(input(\"Enter a number: \"))\n",
        "factorial=1\n",
        "while number>0:\n",
        "    factorial=factorial*number\n",
        "    number=number-1\n",
        "print(factorial)"
      ],
      "metadata": {
        "colab": {
          "base_uri": "https://localhost:8080/"
        },
        "id": "ppnZf_vucOtb",
        "outputId": "ee46fd15-a1d0-4b94-89c4-84ca9691059a"
      },
      "execution_count": 16,
      "outputs": [
        {
          "output_type": "stream",
          "name": "stdout",
          "text": [
            "Enter a number: 5\n",
            "120\n"
          ]
        }
      ]
    },
    {
      "cell_type": "code",
      "source": [
        "#reverse a string\n",
        "string=input(\"Enter a string: \")\n",
        "reverse=string[::-1]\n",
        "print(reverse)"
      ],
      "metadata": {
        "colab": {
          "base_uri": "https://localhost:8080/"
        },
        "id": "SOg3T4GodJiQ",
        "outputId": "d72f1306-8f9d-4868-e082-f2798f7c49e0"
      },
      "execution_count": 15,
      "outputs": [
        {
          "output_type": "stream",
          "name": "stdout",
          "text": [
            "Enter a string: Rameez\n",
            "zeemaR\n"
          ]
        }
      ]
    },
    {
      "cell_type": "code",
      "source": [
        "#multiply two numbers\n",
        "number1=float(input(\"Enter first number: \"))\n",
        "number2=float(input(\"Enter second number: \"))\n",
        "\n",
        "mul=number1*number2\n",
        "print(mul)"
      ],
      "metadata": {
        "colab": {
          "base_uri": "https://localhost:8080/"
        },
        "id": "rT2HLw4BduBR",
        "outputId": "e7c2b23f-00e7-417d-de32-50c5bcd977d8"
      },
      "execution_count": 14,
      "outputs": [
        {
          "output_type": "stream",
          "name": "stdout",
          "text": [
            "Enter first number: 5\n",
            "Enter second number: 5\n",
            "25.0\n"
          ]
        }
      ]
    },
    {
      "cell_type": "code",
      "source": [
        "#square of a number\n",
        "number=float(input(\"Enter a number: \"))\n",
        "square=number**2\n",
        "print(square)"
      ],
      "metadata": {
        "colab": {
          "base_uri": "https://localhost:8080/"
        },
        "id": "dCvIe_b0eXk4",
        "outputId": "b53a8ee5-b69f-4843-9a39-a70021b1bbd9"
      },
      "execution_count": 17,
      "outputs": [
        {
          "output_type": "stream",
          "name": "stdout",
          "text": [
            "Enter a number: 5\n",
            "25.0\n"
          ]
        }
      ]
    },
    {
      "cell_type": "code",
      "source": [
        "#divide two numbers\n",
        "number1=float(input(\"Enter first number: \"))\n",
        "number2=float(input(\"Enter second number: \"))\n",
        "if number2==0:\n",
        "    print(\"Cannot divide by zero\")\n",
        "else:\n",
        "  div=number1/number2\n",
        "  print(div)"
      ],
      "metadata": {
        "colab": {
          "base_uri": "https://localhost:8080/"
        },
        "id": "Z44pbZSnehRA",
        "outputId": "fcd0f330-305f-46e6-de00-a059906ae3ed"
      },
      "execution_count": 19,
      "outputs": [
        {
          "output_type": "stream",
          "name": "stdout",
          "text": [
            "Enter first number: 25\n",
            "Enter second number: 2\n",
            "12.5\n"
          ]
        }
      ]
    }
  ]
}