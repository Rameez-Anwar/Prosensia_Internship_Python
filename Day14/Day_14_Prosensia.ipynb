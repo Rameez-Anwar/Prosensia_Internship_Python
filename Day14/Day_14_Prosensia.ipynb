{
  "nbformat": 4,
  "nbformat_minor": 0,
  "metadata": {
    "colab": {
      "provenance": [],
      "authorship_tag": "ABX9TyPOtooeQ9MO9wivO9DGpKKx"
    },
    "kernelspec": {
      "name": "python3",
      "display_name": "Python 3"
    },
    "language_info": {
      "name": "python"
    }
  },
  "cells": [
    {
      "cell_type": "code",
      "execution_count": 2,
      "metadata": {
        "colab": {
          "base_uri": "https://localhost:8080/"
        },
        "id": "3VRfil5wA7I1",
        "outputId": "5e67d78d-20db-46d6-9614-be80e1a8e4e0"
      },
      "outputs": [
        {
          "output_type": "stream",
          "name": "stdout",
          "text": [
            "((3-1j), (1+7j), (14-5j), (-0.5882352941176471+0.6470588235294118j))\n"
          ]
        }
      ],
      "source": [
        "# 1. Complex Number Conversion and Operations\n",
        "def complex_operations(c1_str, c2):\n",
        "    try:\n",
        "        c1 = complex(c1_str)\n",
        "        c2 = complex(c2)\n",
        "        addition = c1 + c2\n",
        "        subtraction = c1 - c2\n",
        "        multiplication = c1 * c2\n",
        "        division = c1 / c2\n",
        "        return addition, subtraction, multiplication, division\n",
        "    except ValueError as e:\n",
        "        return f\"Error: {e}\"\n",
        "\n",
        "result = complex_operations(\"2+3j\", \"1-4j\")\n",
        "print(result)\n"
      ]
    },
    {
      "cell_type": "code",
      "source": [
        "# 2. Binary String to Integer and Back\n",
        "def binary_conversion(binary_str, length=None):\n",
        "    try:\n",
        "        integer_value = int(binary_str, 2)\n",
        "        binary_str_back = bin(integer_value)[2:]\n",
        "        if length:\n",
        "            binary_str_back = binary_str_back.zfill(length)\n",
        "        return binary_str_back\n",
        "    except ValueError as e:\n",
        "        return f\"Error: {e}\"\n",
        "\n",
        "binary_result = binary_conversion(\"101\", 5)\n",
        "print(binary_result)\n"
      ],
      "metadata": {
        "colab": {
          "base_uri": "https://localhost:8080/"
        },
        "id": "rFaZWYAYB9jv",
        "outputId": "276c3757-924c-4f22-aec3-103afc0902e5"
      },
      "execution_count": 3,
      "outputs": [
        {
          "output_type": "stream",
          "name": "stdout",
          "text": [
            "00101\n"
          ]
        }
      ]
    },
    {
      "cell_type": "code",
      "source": [
        "# 3. Dictionary to JSON String and Back with Error Handling\n",
        "import json\n",
        "\n",
        "def dict_to_json_and_back(dictionary):\n",
        "    try:\n",
        "        json_str = json.dumps(dictionary)\n",
        "        back_to_dict = json.loads(json_str)\n",
        "        return back_to_dict\n",
        "    except (TypeError, json.JSONDecodeError) as e:\n",
        "        return dictionary, f\"Error: {e}\"\n",
        "\n",
        "dict_result = dict_to_json_and_back({\"name\": \"Rameez\", \"age\": 22})\n",
        "print(dict_result)\n"
      ],
      "metadata": {
        "colab": {
          "base_uri": "https://localhost:8080/"
        },
        "id": "wJkBYlkTCQXE",
        "outputId": "7caac507-50dc-4fb1-ae59-9982df1c1743"
      },
      "execution_count": 5,
      "outputs": [
        {
          "output_type": "stream",
          "name": "stdout",
          "text": [
            "{'name': 'Rameez', 'age': 22}\n"
          ]
        }
      ]
    },
    {
      "cell_type": "code",
      "source": [
        "# 4. Matrix Addition with Type and Dimension Enforcement\n",
        "\n",
        "def matrix_dimension_error(message):\n",
        "    raise Exception(f\"MatrixDimensionError: {message}\")\n",
        "\n",
        "def matrix_type_error(message):\n",
        "    raise Exception(f\"MatrixTypeError: {message}\")\n",
        "\n",
        "def add_matrices(matrix1, matrix2):\n",
        "    if not (isinstance(matrix1, list) and isinstance(matrix2, list)):\n",
        "        matrix_type_error(\"Both arguments must be lists of lists.\")\n",
        "\n",
        "    if len(matrix1) != len(matrix2) or any(len(row1) != len(row2) for row1, row2 in zip(matrix1, matrix2)):\n",
        "        matrix_dimension_error(\"Matrices must have the same dimensions.\")\n",
        "\n",
        "    for row in matrix1 + matrix2:\n",
        "        for element in row:\n",
        "            if not isinstance(element, (int, float)):\n",
        "                matrix_type_error(\"All elements in the matrices must be numbers.\")\n",
        "\n",
        "    result = [[element1 + element2 for element1, element2 in zip(row1, row2)] for row1, row2 in zip(matrix1, matrix2)]\n",
        "    return result\n",
        "\n",
        "matrix1 = [[1, 2, 3], [4, 5, 6]]\n",
        "matrix2 = [[7, 8, 9], [10, 11, 12]]\n",
        "\n",
        "try:\n",
        "    result = add_matrices(matrix1, matrix2)\n",
        "    print(\"Sum of matrices:\", result)\n",
        "except Exception as e:\n",
        "    print(\"Error:\", e)\n"
      ],
      "metadata": {
        "colab": {
          "base_uri": "https://localhost:8080/"
        },
        "id": "uA0MFoJ8CfGQ",
        "outputId": "1c6ef1e4-4196-476f-d311-a452fc24a312"
      },
      "execution_count": 7,
      "outputs": [
        {
          "output_type": "stream",
          "name": "stdout",
          "text": [
            "Sum of matrices: [[8, 10, 12], [14, 16, 18]]\n"
          ]
        }
      ]
    },
    {
      "cell_type": "code",
      "source": [
        "# 5. Prime Factorization with Cumulative Multiplication\n",
        "def prime_factors_with_product(n):\n",
        "    def prime_factors(n):\n",
        "        factors = []\n",
        "        divisor = 2\n",
        "        while n > 1:\n",
        "            while n % divisor == 0:\n",
        "                factors.append(divisor)\n",
        "                n //= divisor\n",
        "            divisor += 1\n",
        "        return factors\n",
        "\n",
        "    factors = prime_factors(n)\n",
        "    product = 1\n",
        "    for factor in factors:\n",
        "        product *= factor\n",
        "\n",
        "    return factors, product\n",
        "\n",
        "n = 60\n",
        "factors, product = prime_factors_with_product(n)\n",
        "print(f\"Prime factors of {n}: {factors}\")\n",
        "print(f\"Cumulative product of prime factors: {product}\")\n"
      ],
      "metadata": {
        "colab": {
          "base_uri": "https://localhost:8080/"
        },
        "id": "gxq86PSLDVAV",
        "outputId": "1775e346-5938-458c-db7c-c2a0a1827245"
      },
      "execution_count": 9,
      "outputs": [
        {
          "output_type": "stream",
          "name": "stdout",
          "text": [
            "Prime factors of 60: [2, 2, 3, 5]\n",
            "Cumulative product of prime factors: 60\n"
          ]
        }
      ]
    },
    {
      "cell_type": "code",
      "source": [
        "# 6. Formatted String Interpolation with Custom Placeholders\n",
        "import re\n",
        "\n",
        "def interpolate_string(template, values):\n",
        "    placeholders = re.findall(r'\\{(\\w+)\\}', template)\n",
        "\n",
        "    for placeholder in placeholders:\n",
        "        if placeholder in values:\n",
        "            template = template.replace(f'{{{placeholder}}}', str(values[placeholder]))\n",
        "\n",
        "    return template\n",
        "\n",
        "template = \"Hello, {name}! You are {age} years old.\"\n",
        "values = {\"name\": \"Rameez\", \"age\": 22}\n",
        "\n",
        "formatted_string = interpolate_string(template, values)\n",
        "print(formatted_string)\n"
      ],
      "metadata": {
        "colab": {
          "base_uri": "https://localhost:8080/"
        },
        "id": "cj9O2JSkDbo3",
        "outputId": "f262ecab-6450-4fcd-aae1-ab6d60b911b1"
      },
      "execution_count": 11,
      "outputs": [
        {
          "output_type": "stream",
          "name": "stdout",
          "text": [
            "Hello, Rameez! You are 22 years old.\n"
          ]
        }
      ]
    },
    {
      "cell_type": "code",
      "source": [
        "# 7. Advanced Anagram Check with Frequency Analysis\n",
        "import re\n",
        "\n",
        "def clean_string(s):\n",
        "    return re.sub(r'[^a-zA-Z0-9]', '', s).lower()\n",
        "\n",
        "def count_frequency(s):\n",
        "    frequency = {}\n",
        "    for char in s:\n",
        "        if char in frequency:\n",
        "            frequency[char] += 1\n",
        "        else:\n",
        "            frequency[char] = 1\n",
        "    return frequency\n",
        "\n",
        "def check_anagram_with_frequency(str1, str2):\n",
        "    cleaned_str1 = clean_string(str1)\n",
        "    cleaned_str2 = clean_string(str2)\n",
        "\n",
        "    freq1 = count_frequency(cleaned_str1)\n",
        "    freq2 = count_frequency(cleaned_str2)\n",
        "\n",
        "    are_anagrams = freq1 == freq2\n",
        "\n",
        "    return are_anagrams, {\"frequency_str1\": freq1, \"frequency_str2\": freq2}\n",
        "\n",
        "str1 = \"Listen!\"\n",
        "str2 = \"Silent\"\n",
        "\n",
        "are_anagrams, frequencies = check_anagram_with_frequency(str1, str2)\n",
        "print(f\"Are the two strings anagrams? {are_anagrams}\")\n",
        "print(\"Character frequencies:\")\n",
        "print(frequencies)\n"
      ],
      "metadata": {
        "id": "l4JV94gvEHe5"
      },
      "execution_count": null,
      "outputs": []
    },
    {
      "cell_type": "code",
      "source": [
        "# 8. Nested Data Structure Flattening with Type Preservation\n",
        "def flatten_and_depth(nested_list):\n",
        "    def flatten(nl, depth=0):\n",
        "        if not isinstance(nl, list):\n",
        "            return [(nl, depth)]\n",
        "        else:\n",
        "            return [item for sublist in nl for item in flatten(sublist, depth + 1)]\n",
        "\n",
        "    flattened = [x[0] for x in flatten(nested_list)]\n",
        "    max_depth = max(flatten(nested_list), key=lambda x: x[1])[1]\n",
        "    return flattened, max_depth\n",
        "\n",
        "nested_list = [[1, [2, 3]], [4, [5, [6, 7]]]]\n",
        "flattened_list, depth = flatten_and_depth(nested_list)\n",
        "print(flattened_list, depth)"
      ],
      "metadata": {
        "colab": {
          "base_uri": "https://localhost:8080/"
        },
        "id": "NCZKDDwDGin0",
        "outputId": "80ce47e5-96bb-40b9-c479-b276e49f3e62"
      },
      "execution_count": 12,
      "outputs": [
        {
          "output_type": "stream",
          "name": "stdout",
          "text": [
            "[1, 2, 3, 4, 5, 6, 7] 4\n"
          ]
        }
      ]
    },
    {
      "cell_type": "code",
      "source": [
        "# 9. String and Number Pattern Matching\n",
        "\n",
        "def pattern_match(s, pattern):\n",
        "    if len(s) != len(pattern):\n",
        "        return False\n",
        "    for char, pat in zip(s, pattern):\n",
        "        if pat.isdigit():\n",
        "            if not char.isdigit():\n",
        "                return False\n",
        "        elif pat.isalpha():\n",
        "            if not char.isalpha():\n",
        "                return False\n",
        "        else:\n",
        "            return False\n",
        "    return True\n",
        "\n",
        "match_result = pattern_match(\"a1b2\", \"a1b2\")\n",
        "print(match_result)\n"
      ],
      "metadata": {
        "colab": {
          "base_uri": "https://localhost:8080/"
        },
        "id": "Ser8MQgbH-ud",
        "outputId": "cb8b7fdd-a285-472a-bd8c-4b6f88e752b9"
      },
      "execution_count": 13,
      "outputs": [
        {
          "output_type": "stream",
          "name": "stdout",
          "text": [
            "True\n"
          ]
        }
      ]
    },
    {
      "cell_type": "code",
      "source": [
        "#10. Data Normalization and Statistical Analysis\n",
        "\n",
        "import statistics\n",
        "\n",
        "def normalize_and_analyze(data):\n",
        "    if not data:\n",
        "        raise ValueError(\"Input list is empty.\")\n",
        "    if not all(isinstance(i, (int, float)) for i in data):\n",
        "        raise ValueError(\"Input list contains non-numeric values.\")\n",
        "\n",
        "    min_val = min(data)\n",
        "    max_val = max(data)\n",
        "    if max_val == min_val:\n",
        "        normalized = [0.5] * len(data)\n",
        "    else:\n",
        "        normalized = [(x - min_val) / (max_val - min_val) for x in data]\n",
        "\n",
        "    mean = statistics.mean(normalized)\n",
        "    median = statistics.median(normalized)\n",
        "    variance = statistics.variance(normalized)\n",
        "\n",
        "    return normalized, mean, median, variance\n",
        "\n",
        "normalized_data, mean, median, variance = normalize_and_analyze([10, 20, 30])\n",
        "print(normalized_data, mean, median, variance)\n"
      ],
      "metadata": {
        "colab": {
          "base_uri": "https://localhost:8080/"
        },
        "id": "LTamx4edIJKd",
        "outputId": "d5535f82-d2a6-4944-8b45-f5aaa78d1af4"
      },
      "execution_count": 14,
      "outputs": [
        {
          "output_type": "stream",
          "name": "stdout",
          "text": [
            "[0.0, 0.5, 1.0] 0.5 0.5 0.25\n"
          ]
        }
      ]
    }
  ]
}