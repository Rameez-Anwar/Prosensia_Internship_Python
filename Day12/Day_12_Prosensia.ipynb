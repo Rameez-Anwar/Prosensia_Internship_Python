{
  "nbformat": 4,
  "nbformat_minor": 0,
  "metadata": {
    "colab": {
      "provenance": [],
      "authorship_tag": "ABX9TyOrI/7I/MWnPuk4Z07Ij66C"
    },
    "kernelspec": {
      "name": "python3",
      "display_name": "Python 3"
    },
    "language_info": {
      "name": "python"
    }
  },
  "cells": [
    {
      "cell_type": "code",
      "execution_count": 5,
      "metadata": {
        "colab": {
          "base_uri": "https://localhost:8080/"
        },
        "id": "b6CMddVKeegC",
        "outputId": "80cc36ac-ea80-4067-c81f-9ed4df7e3357"
      },
      "outputs": [
        {
          "output_type": "execute_result",
          "data": {
            "text/plain": [
              "123"
            ]
          },
          "metadata": {},
          "execution_count": 5
        }
      ],
      "source": [
        "# Task 1: String to Integer with Fallback\n",
        "def string_to_int_with_fallback(input_str: str, default_value: int) -> int:\n",
        "    try:\n",
        "        return int(input_str)\n",
        "    except ValueError:\n",
        "        return default_value\n",
        "string_to_int_with_fallback(\"123\", 0)\n"
      ]
    },
    {
      "cell_type": "code",
      "source": [
        "string_to_int_with_fallback(\"abc\",0)"
      ],
      "metadata": {
        "colab": {
          "base_uri": "https://localhost:8080/"
        },
        "id": "-9DHpaXlhKOX",
        "outputId": "329029c8-5d33-4168-b715-ca22f39c95ef"
      },
      "execution_count": 6,
      "outputs": [
        {
          "output_type": "execute_result",
          "data": {
            "text/plain": [
              "0"
            ]
          },
          "metadata": {},
          "execution_count": 6
        }
      ]
    },
    {
      "cell_type": "code",
      "source": [
        "# Task 2: Integer to String with Formatting\n",
        "def int_to_formatted_string(value: int, format_spec: str) -> str:\n",
        "    return format(value, format_spec)\n",
        "int_to_formatted_string(42, \"08b\")"
      ],
      "metadata": {
        "colab": {
          "base_uri": "https://localhost:8080/",
          "height": 36
        },
        "id": "4bZKW-dWhPkt",
        "outputId": "ff7e3fbc-e8d2-4227-ec26-446a539d143b"
      },
      "execution_count": 9,
      "outputs": [
        {
          "output_type": "execute_result",
          "data": {
            "text/plain": [
              "'00101010'"
            ],
            "application/vnd.google.colaboratory.intrinsic+json": {
              "type": "string"
            }
          },
          "metadata": {},
          "execution_count": 9
        }
      ]
    },
    {
      "cell_type": "code",
      "source": [
        "# Task 3: Float to Integer with Multiple Rounding Options\n",
        "import math\n",
        "\n",
        "def float_to_int_with_rounding(value: float, strategy: str) -> int:\n",
        "    if strategy == \"up\":\n",
        "        return math.ceil(value)\n",
        "    elif strategy == \"down\":\n",
        "        return math.floor(value)\n",
        "    elif strategy == \"nearest\":\n",
        "        return round(value)\n",
        "    else:\n",
        "        raise ValueError(\"Invalid rounding strategy. Use 'up', 'down', or 'nearest'.\")\n",
        "float_to_int_with_rounding(3.7, \"up\")"
      ],
      "metadata": {
        "colab": {
          "base_uri": "https://localhost:8080/"
        },
        "id": "Yb825Sq7hqXd",
        "outputId": "89a3f32d-438c-4a0d-e3ca-f55800557a49"
      },
      "execution_count": 11,
      "outputs": [
        {
          "output_type": "execute_result",
          "data": {
            "text/plain": [
              "4"
            ]
          },
          "metadata": {},
          "execution_count": 11
        }
      ]
    },
    {
      "cell_type": "code",
      "source": [
        "# Task 4: List of Strings to List of Integers with Error Logging\n",
        "\n",
        "def list_of_strings_to_ints_with_logging(input_list: list) -> tuple:\n",
        "    int_list = []\n",
        "    error_log = []\n",
        "    for item in input_list:\n",
        "        try:\n",
        "            int_list.append(int(item))\n",
        "        except ValueError:\n",
        "            error_log.append(item)\n",
        "    return int_list, error_log\n",
        "list_of_strings_to_ints_with_logging([\"1\", \"2\", \"abc\", \"4\"])"
      ],
      "metadata": {
        "colab": {
          "base_uri": "https://localhost:8080/"
        },
        "id": "YLuO-QGIh_SZ",
        "outputId": "b19ca928-c0ba-4d18-bf31-0f3a1e9d6f33"
      },
      "execution_count": 12,
      "outputs": [
        {
          "output_type": "execute_result",
          "data": {
            "text/plain": [
              "([1, 2, 4], ['abc'])"
            ]
          },
          "metadata": {},
          "execution_count": 12
        }
      ]
    },
    {
      "cell_type": "code",
      "source": [
        "# 5. Addition with Type Enforcement\n",
        "def add_numbers(a: int, b: int) -> int:\n",
        "  try:\n",
        "    return a + b\n",
        "  except TypeError:\n",
        "    print(\"Invalid input. Please provide valid integers.\")\n",
        "\n",
        "add_numbers(3, 4)"
      ],
      "metadata": {
        "colab": {
          "base_uri": "https://localhost:8080/"
        },
        "id": "_2mUD4O6iGKq",
        "outputId": "bccdf1a7-bbae-410d-e032-ab336ad1ad76"
      },
      "execution_count": 15,
      "outputs": [
        {
          "output_type": "execute_result",
          "data": {
            "text/plain": [
              "7"
            ]
          },
          "metadata": {},
          "execution_count": 15
        }
      ]
    },
    {
      "cell_type": "code",
      "source": [
        "# 6. Cumulative Subtraction with List Validation\n",
        "def cumulative_subtraction(input_list: list) -> list:\n",
        "  if not input_list:\n",
        "    return []\n",
        "  else:\n",
        "    result = [input_list[0]]\n",
        "    for i in range(1, len(input_list)):\n",
        "      try:\n",
        "        result.append(result[-1] - input_list[i])\n",
        "      except TypeError:\n",
        "        return []\n",
        "    return result\n",
        "cumulative_subtraction([5, 2, 8, 1])"
      ],
      "metadata": {
        "colab": {
          "base_uri": "https://localhost:8080/"
        },
        "id": "8C43vgKEiliS",
        "outputId": "aaf600c1-c85f-4b6d-8a1f-8e2d62da5c5f"
      },
      "execution_count": 17,
      "outputs": [
        {
          "output_type": "execute_result",
          "data": {
            "text/plain": [
              "[5, 3, -5, -6]"
            ]
          },
          "metadata": {},
          "execution_count": 17
        }
      ]
    },
    {
      "cell_type": "code",
      "source": [
        "# 7. Exponentiation Table\n",
        "def exponentiation_table(base: int, exponent: int) -> list:\n",
        "  return [base ** i for i in range(1, exponent + 1)]\n",
        "exponentiation_table(2, 5)\n"
      ],
      "metadata": {
        "colab": {
          "base_uri": "https://localhost:8080/"
        },
        "id": "_vwwcDNRjG46",
        "outputId": "73353508-9fec-4113-9bf8-ff774ed9a62d"
      },
      "execution_count": 18,
      "outputs": [
        {
          "output_type": "execute_result",
          "data": {
            "text/plain": [
              "[2, 4, 8, 16, 32]"
            ]
          },
          "metadata": {},
          "execution_count": 18
        }
      ]
    },
    {
      "cell_type": "code",
      "source": [
        "# 8. Safe Division with Custom Error Handling\n",
        "def safe_division(a: float, b: float) -> float:\n",
        "  try:\n",
        "    return a / b\n",
        "  except ZeroDivisionError:\n",
        "    print(\"Error: Division by zero is not allowed.\")\n",
        "safe_division(10, 0)"
      ],
      "metadata": {
        "colab": {
          "base_uri": "https://localhost:8080/"
        },
        "id": "7NW4YTEQjQwY",
        "outputId": "66340230-853c-423a-afde-99faa4cdbac0"
      },
      "execution_count": 19,
      "outputs": [
        {
          "output_type": "stream",
          "name": "stdout",
          "text": [
            "Error: Division by zero is not allowed.\n"
          ]
        }
      ]
    },
    {
      "cell_type": "code",
      "source": [
        "# 9. Advanced String Split and Conditional Join\n",
        "def split_and_join(input_string, split_delimiter, join_delimiter, condition):\n",
        "    split_list = input_string.split(split_delimiter)\n",
        "\n",
        "    filtered_list = [item for item in split_list if condition(item)]\n",
        "\n",
        "    result_string = join_delimiter.join(filtered_list)\n",
        "\n",
        "    return result_string\n",
        "\n",
        "input_str = \"apple#banana#cherry#date\"\n",
        "split_delim = \"#\"\n",
        "join_delim = \";\"\n",
        "condition_func = lambda x: len(x) > 3\n",
        "\n",
        "result = split_and_join(input_str, split_delim, join_delim, condition_func)\n",
        "print(result)\n",
        ""
      ],
      "metadata": {
        "colab": {
          "base_uri": "https://localhost:8080/"
        },
        "id": "NY9909Zxjddy",
        "outputId": "b03b55f6-b713-47a4-d34f-b0086c1d3b36"
      },
      "execution_count": 21,
      "outputs": [
        {
          "output_type": "stream",
          "name": "stdout",
          "text": [
            "apple;banana;cherry;date\n"
          ]
        }
      ]
    }
  ]
}