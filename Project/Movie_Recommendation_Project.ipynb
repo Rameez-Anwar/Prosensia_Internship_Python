{
  "nbformat": 4,
  "nbformat_minor": 0,
  "metadata": {
    "colab": {
      "provenance": [],
      "authorship_tag": "ABX9TyOoO3yQJk1Brl9nNJMh2Z9W"
    },
    "kernelspec": {
      "name": "python3",
      "display_name": "Python 3"
    },
    "language_info": {
      "name": "python"
    }
  },
  "cells": [
    {
      "cell_type": "code",
      "execution_count": 2,
      "metadata": {
        "colab": {
          "base_uri": "https://localhost:8080/"
        },
        "id": "TwprfEUPF-GE",
        "outputId": "1640f036-cd78-4ca2-fb47-f8a6c03a8d15"
      },
      "outputs": [
        {
          "output_type": "stream",
          "name": "stdout",
          "text": [
            "Welcome to the Movie Recommendation System!\n",
            "Enter your favorite genre: Action\n",
            "We recommend you to watch: Die Hard\n",
            "Would you like another recommendation? (yes/no): yes\n",
            "Enter your favorite genre: Drama\n",
            "We recommend you to watch: The Shawshank Redemption\n",
            "Would you like another recommendation? (yes/no): no\n",
            "Thank you for using the Movie Recommendation System. Goodbye!\n"
          ]
        }
      ],
      "source": [
        "import random\n",
        "\n",
        "# Movie Database (Ibadullah)\n",
        "movie_database = {\n",
        "    \"Action\": [\"John Wick\", \"Mad Max: Fury Road\", \"Die Hard\"],\n",
        "    \"Comedy\": [\"Superbad\", \"Step Brothers\", \"The Hangover\"],\n",
        "    \"Drama\": [\"The Shawshank Redemption\", \"Forrest Gump\", \"The Godfather\"],\n",
        "    \"Sci-Fi\": [\"Interstellar\", \"Inception\", \"The Matrix\"],\n",
        "    \"Horror\": [\"Get Out\", \"A Quiet Place\", \"The Conjuring\"]\n",
        "}\n",
        "\n",
        "# User Interaction (Ali)\n",
        "def get_user_genre(database):\n",
        "    while True:\n",
        "        genre = input(\"Enter your favorite genre: \").title()\n",
        "        if genre in database:\n",
        "            return genre\n",
        "        else:\n",
        "            print(f\"Sorry, '{genre}' is not available in the database. Please try again.\")\n",
        "\n",
        "# Movie Recommendation (Anees)\n",
        "def recommend_movie(database, genre):\n",
        "    movie = random.choice(database[genre])\n",
        "    print(f\"We recommend you to watch: {movie}\")\n",
        "\n",
        "def movie_recommendation_system():\n",
        "    print(\"Welcome to the Movie Recommendation System!\")\n",
        "    while True:\n",
        "        genre = get_user_genre(movie_database)\n",
        "        recommend_movie(movie_database, genre)\n",
        "\n",
        "        another = input(\"Would you like another recommendation? (yes/no): \").lower()\n",
        "        if another != 'yes':\n",
        "            print(\"Thank you for using the Movie Recommendation System. Goodbye!\")\n",
        "            break\n",
        "\n",
        "movie_recommendation_system()\n"
      ]
    }
  ]
}