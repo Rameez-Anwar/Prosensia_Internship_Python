{
  "nbformat": 4,
  "nbformat_minor": 0,
  "metadata": {
    "colab": {
      "provenance": [],
      "authorship_tag": "ABX9TyNKLgqc1F9GfIFdMvNM+S/A"
    },
    "kernelspec": {
      "name": "python3",
      "display_name": "Python 3"
    },
    "language_info": {
      "name": "python"
    }
  },
  "cells": [
    {
      "cell_type": "code",
      "execution_count": 2,
      "metadata": {
        "colab": {
          "base_uri": "https://localhost:8080/"
        },
        "id": "DLytAPjgsrxW",
        "outputId": "4a6fd868-4cea-41aa-bff3-0b6ba2082549"
      },
      "outputs": [
        {
          "output_type": "stream",
          "name": "stdout",
          "text": [
            "Hello, World!\n"
          ]
        }
      ],
      "source": [
        "#1. Write a function called print_greeting that prints \"Hello, World!\" to the console.\n",
        "def print_greeting():\n",
        "    print(\"Hello, World!\")\n",
        "print_greeting()"
      ]
    },
    {
      "cell_type": "code",
      "source": [
        "# 2. a function max_value that takes a string as an input and returns the maximum\n",
        "# alphabetical character.\n",
        "def max_value(string):\n",
        "    max_char = ''\n",
        "    for char in string:\n",
        "        if char > max_char:\n",
        "            max_char = char\n",
        "    return max_char\n",
        "max_value(\"Rameez\")"
      ],
      "metadata": {
        "colab": {
          "base_uri": "https://localhost:8080/",
          "height": 36
        },
        "id": "iVPuhqDKs4O8",
        "outputId": "441492dc-9466-4be7-dbd7-ab0dbcecc16a"
      },
      "execution_count": 3,
      "outputs": [
        {
          "output_type": "execute_result",
          "data": {
            "text/plain": [
              "'z'"
            ],
            "application/vnd.google.colaboratory.intrinsic+json": {
              "type": "string"
            }
          },
          "metadata": {},
          "execution_count": 3
        }
      ]
    },
    {
      "cell_type": "code",
      "source": [
        "# 3. Define a function convert_to_float that takes an integer and returns its floating point representation.\n",
        "\n",
        "def convert_to_float(int):\n",
        "    new=float(int)\n",
        "    return new\n",
        "convert_to_float(42)"
      ],
      "metadata": {
        "colab": {
          "base_uri": "https://localhost:8080/"
        },
        "id": "IuLq3L3otbq0",
        "outputId": "a0188fc9-5464-406d-def6-9a125488064a"
      },
      "execution_count": 6,
      "outputs": [
        {
          "output_type": "execute_result",
          "data": {
            "text/plain": [
              "45.6"
            ]
          },
          "metadata": {},
          "execution_count": 6
        }
      ]
    },
    {
      "cell_type": "code",
      "source": [
        "# 4. Write a function add_numbers that takes two parameters, adds them, and\n",
        "# returns the result.\n",
        "def add_numbers(a,b):\n",
        "  sum = a + b\n",
        "  return sum\n",
        "\n",
        "add_numbers(10,20)"
      ],
      "metadata": {
        "colab": {
          "base_uri": "https://localhost:8080/"
        },
        "id": "hSts7bQjuBAh",
        "outputId": "32ea03b4-68e0-401f-a10c-b337b77d2f59"
      },
      "execution_count": 7,
      "outputs": [
        {
          "output_type": "execute_result",
          "data": {
            "text/plain": [
              "30"
            ]
          },
          "metadata": {},
          "execution_count": 7
        }
      ]
    },
    {
      "cell_type": "code",
      "source": [
        "# 5. Create a function greet that takes a language code ('en', 'es', or 'fr') and prints the\n",
        "# corresponding greeting (\"Hello\", \"Hola\", \"Bonjour\").\n",
        "\n",
        "def greet(code):\n",
        "  if code=='fr':\n",
        "    print(\"Bonjour\")\n",
        "  elif code=='es':\n",
        "    print(\"Hola\")\n",
        "  else:\n",
        "    print(\"Hello\")\n",
        "\n",
        "greet('es')\n"
      ],
      "metadata": {
        "colab": {
          "base_uri": "https://localhost:8080/"
        },
        "id": "b_vvfkUXudHC",
        "outputId": "61e09078-12a3-4da7-8a21-ec66ca78a642"
      },
      "execution_count": 8,
      "outputs": [
        {
          "output_type": "stream",
          "name": "stdout",
          "text": [
            "Hola\n"
          ]
        }
      ]
    },
    {
      "cell_type": "code",
      "source": [
        "# 6. Define a function compute_pay that calculates weekly pay, given hours worked\n",
        "# and hourly rate, considering overtime (time-and-a-half for hours over 40).\n",
        "def compute_pay(rate, hours):\n",
        "    if hours > 40:\n",
        "        overtime = hours - 40\n",
        "        pay = 40 * rate + overtime * rate * 1.5\n",
        "    else:\n",
        "        pay = hours * rate\n",
        "    return pay\n",
        "compute_pay(10, 45)"
      ],
      "metadata": {
        "colab": {
          "base_uri": "https://localhost:8080/"
        },
        "id": "pLjK3fmXvno1",
        "outputId": "ab7bac7a-2153-45f5-8c90-dc602f037b6f"
      },
      "execution_count": 9,
      "outputs": [
        {
          "output_type": "execute_result",
          "data": {
            "text/plain": [
              "475.0"
            ]
          },
          "metadata": {},
          "execution_count": 9
        }
      ]
    },
    {
      "cell_type": "code",
      "source": [
        "# 7. Write a function is_integer that takes a string and returns True if the string can be\n",
        "# converted to an integer, otherwise False.\n",
        "def is_integer(num):\n",
        "  try:\n",
        "    int(num)\n",
        "    return True\n",
        "  except ValueError:\n",
        "    return False\n",
        "is_integer(\"123\")"
      ],
      "metadata": {
        "colab": {
          "base_uri": "https://localhost:8080/"
        },
        "id": "6VUgSuLnv7jJ",
        "outputId": "906ad1e5-e366-440e-8735-f03da50ce8c1"
      },
      "execution_count": 21,
      "outputs": [
        {
          "output_type": "execute_result",
          "data": {
            "text/plain": [
              "True"
            ]
          },
          "metadata": {},
          "execution_count": 21
        }
      ]
    },
    {
      "cell_type": "code",
      "source": [
        "is_integer(\"Hello\")"
      ],
      "metadata": {
        "colab": {
          "base_uri": "https://localhost:8080/"
        },
        "id": "tcil7Ufqxm9s",
        "outputId": "f642d86c-e03f-4b44-f661-aa257a29eca7"
      },
      "execution_count": 20,
      "outputs": [
        {
          "output_type": "execute_result",
          "data": {
            "text/plain": [
              "False"
            ]
          },
          "metadata": {},
          "execution_count": 20
        }
      ]
    },
    {
      "cell_type": "code",
      "source": [
        "# 8. Create a function print_lyrics that prints the lyrics of a song.\n",
        "def print_lyrics():\n",
        "  print(\"Never gonna give you up\")\n",
        "  print(\"Never gonna let you down\")\n",
        "\n",
        "print_lyrics()"
      ],
      "metadata": {
        "colab": {
          "base_uri": "https://localhost:8080/"
        },
        "id": "JkGAzPaAxyoO",
        "outputId": "cd6f83cb-f9de-4c1a-f2ab-b7afce70bfde"
      },
      "execution_count": 23,
      "outputs": [
        {
          "output_type": "stream",
          "name": "stdout",
          "text": [
            "Never gonna give you up\n",
            "Never gonna let you down\n"
          ]
        }
      ]
    },
    {
      "cell_type": "code",
      "source": [
        "# 9. Define a function multiply_numbers that takes two parameters and returns their\n",
        "# product.\n",
        "\n",
        "def multiply_numbers(a,b):\n",
        "  mul=a*b\n",
        "  return mul\n",
        "\n",
        "multiply_numbers(7,8)"
      ],
      "metadata": {
        "colab": {
          "base_uri": "https://localhost:8080/"
        },
        "id": "bMd8lTOcyMtS",
        "outputId": "16009dfb-810b-4885-8eaa-7cbf23d7a60f"
      },
      "execution_count": 24,
      "outputs": [
        {
          "output_type": "execute_result",
          "data": {
            "text/plain": [
              "56"
            ]
          },
          "metadata": {},
          "execution_count": 24
        }
      ]
    },
    {
      "cell_type": "code",
      "source": [
        "# 10. Write a function calculate_expression that evaluates and returns the result of\n",
        "# the expression 1 + 2 * float(3) / 4 - 5.\n",
        "\n",
        "def exp():\n",
        "  e = 1+2*float(3)/4-5\n",
        "  return e\n",
        "exp()"
      ],
      "metadata": {
        "colab": {
          "base_uri": "https://localhost:8080/"
        },
        "id": "z9GOe0J6ymUS",
        "outputId": "69649201-dc1b-4db0-91d6-1facc8060ad3"
      },
      "execution_count": 26,
      "outputs": [
        {
          "output_type": "execute_result",
          "data": {
            "text/plain": [
              "-2.5"
            ]
          },
          "metadata": {},
          "execution_count": 26
        }
      ]
    }
  ]
}