{
  "nbformat": 4,
  "nbformat_minor": 0,
  "metadata": {
    "colab": {
      "provenance": [],
      "gpuType": "T4",
      "authorship_tag": "ABX9TyPNI3n50S/kjO9Nh+6EyINw"
    },
    "kernelspec": {
      "name": "python3",
      "display_name": "Python 3"
    },
    "language_info": {
      "name": "python"
    },
    "accelerator": "GPU"
  },
  "cells": [
    {
      "cell_type": "code",
      "execution_count": 5,
      "metadata": {
        "colab": {
          "base_uri": "https://localhost:8080/"
        },
        "id": "zrsYx1JQZU2K",
        "outputId": "402ba257-44f5-4232-eddc-869a5a806185"
      },
      "outputs": [
        {
          "output_type": "stream",
          "name": "stdout",
          "text": [
            "Enter a number: 5\n",
            "Number is positive\n"
          ]
        }
      ],
      "source": [
        "#1: Boolean Expressions and Comparison Operators:\n",
        "\n",
        "number = int(input(\"Enter a number: \"))\n",
        "if number >0:\n",
        "  print(\"Number is positive\")\n",
        "if number < 0:\n",
        "  print(\"Number is negative\")\n",
        "if number == 0:\n",
        "  print(\"Number is zero\")"
      ]
    },
    {
      "cell_type": "code",
      "source": [
        "# Modify the following code to also print \"Number is too small\" if x is less than 2:\n",
        "number = int(input(\"Enter a number: \"))\n",
        "if number > 0 and number <2:\n",
        "  print(\"Number is too small\")\n",
        "if number >0:\n",
        "  print(\"Number is positive\")\n",
        "if number < 0:\n",
        "  print(\"Number is negative\")\n",
        "if number == 0:\n",
        "  print(\"Number is zero\")"
      ],
      "metadata": {
        "colab": {
          "base_uri": "https://localhost:8080/"
        },
        "id": "5iN1AXQQaJ56",
        "outputId": "a39cc28f-0799-4ec4-ad3d-7b01d30806c5"
      },
      "execution_count": 6,
      "outputs": [
        {
          "output_type": "stream",
          "name": "stdout",
          "text": [
            "Enter a number: 1\n",
            "Number is too small\n",
            "Number is positive\n"
          ]
        }
      ]
    },
    {
      "cell_type": "code",
      "source": [
        "# Given the following code snippet, correct the indentation to avoid any errors:\n",
        "x =5\n",
        "if x >2:\n",
        "  print(\"Bigger than 2\")\n",
        "  print(\"Still Bigger\")\n",
        "print(\"Done with 2\")"
      ],
      "metadata": {
        "colab": {
          "base_uri": "https://localhost:8080/"
        },
        "id": "LxiWchqsaur-",
        "outputId": "425cf888-54c5-4158-8a15-03ac46ad31c5"
      },
      "execution_count": 7,
      "outputs": [
        {
          "output_type": "stream",
          "name": "stdout",
          "text": [
            "Bigger than 2\n",
            "Still Bigger\n",
            "Done with 2\n"
          ]
        }
      ]
    },
    {
      "cell_type": "code",
      "source": [
        "# Write a Python program that checks if a given integer is within the range of 10 to 20 inclusive and prints \"Within range\". If it is not, print \"Out of range\".\n",
        "\n",
        "number = float(input(\"Enter a number: \"))\n",
        "if number >= 10 and number <= 20:\n",
        "  print(\"Within range\")\n",
        "else:\n",
        "  print(\"Out of range\")\n"
      ],
      "metadata": {
        "colab": {
          "base_uri": "https://localhost:8080/"
        },
        "id": "aM_CxGsHbDch",
        "outputId": "9c642865-b9a5-433e-e83a-62c612064a5b"
      },
      "execution_count": 9,
      "outputs": [
        {
          "output_type": "stream",
          "name": "stdout",
          "text": [
            "Enter a number: 12\n",
            "Within range\n"
          ]
        }
      ]
    },
    {
      "cell_type": "code",
      "source": [
        "#Modify the following code to also  print \"Equal\" if x is exactly 2\n",
        "x = 2\n",
        "if x >2:\n",
        "  print(\"Bigger\")\n",
        "elif x ==2:\n",
        "  print(\"Equal\")\n",
        "else:\n",
        "  print(\"Smaller\")\n",
        "\n",
        "print(\"All done\")"
      ],
      "metadata": {
        "colab": {
          "base_uri": "https://localhost:8080/"
        },
        "id": "bUa3K4txb5Ic",
        "outputId": "1411afbc-7ced-46cb-836b-476cd892cf8c"
      },
      "execution_count": 12,
      "outputs": [
        {
          "output_type": "stream",
          "name": "stdout",
          "text": [
            "Equal\n",
            "All done\n"
          ]
        }
      ]
    },
    {
      "cell_type": "code",
      "source": [
        "#  Write a Python program that takes an integer input and categorizes it as \"Small\" if it is less than 10, \"Medium\" if it is between 10 and 20, and \"Large\" if it is greater than 20.\n",
        "\n",
        "number = int(input(\"Enter an integer: \"))\n",
        "\n",
        "if number < 10:\n",
        "  print(\"Small\")\n",
        "elif number >= 10 and number <= 20:\n",
        "  print(\"Medium\")\n",
        "else:\n",
        "  print(\"Large\")"
      ],
      "metadata": {
        "colab": {
          "base_uri": "https://localhost:8080/"
        },
        "id": "EREdZM3BcXrJ",
        "outputId": "af9eb1e6-5874-4221-ca57-ebd668ac7387"
      },
      "execution_count": 13,
      "outputs": [
        {
          "output_type": "stream",
          "name": "stdout",
          "text": [
            "Enter an integer: 12\n",
            "Medium\n"
          ]
        }
      ]
    },
    {
      "cell_type": "code",
      "source": [
        "# Rewrite the following code to handle non-numeric inputs gracefully using try and except:\n",
        "\n",
        "rawstr = input('Enter a number: ')\n",
        "try:\n",
        "  ival = int(rawstr)\n",
        "  if ival > 0:\n",
        "    print('Nice work')\n",
        "  else:\n",
        "    print('Your input is non-positive.')\n",
        "except ValueError:\n",
        "  print('Please enter a valid number.')\n"
      ],
      "metadata": {
        "colab": {
          "base_uri": "https://localhost:8080/"
        },
        "id": "vnPZd_Blczg6",
        "outputId": "ceb2c1a7-a407-4820-c4ba-fe8ff1befc80"
      },
      "execution_count": 14,
      "outputs": [
        {
          "output_type": "stream",
          "name": "stdout",
          "text": [
            "Enter a number: 25\n",
            "Nice work\n"
          ]
        }
      ]
    },
    {
      "cell_type": "code",
      "source": [
        "# Write a Python program to compute the gross pay for an employee. If the hours\n",
        "# worked are more than 40, the employee should get 1.5 times the hourly rate for\n",
        "# the extra hours.\n",
        "\n",
        "hours = float(input('Enter the number of hours worked: '))\n",
        "hourly_rate = float(input('Enter the hourly rate: '))\n",
        "\n",
        "if hours > 40:\n",
        "    regular_hours = 40\n",
        "    overtime_hours = hours - regular_hours\n",
        "    gross_pay = (regular_hours * hourly_rate) + (overtime_hours * hourly_rate * 1.5)\n",
        "else:\n",
        "    gross_pay = hours * hourly_rate\n",
        "\n",
        "print(f\"Gross pay: {gross_pay}\")\n"
      ],
      "metadata": {
        "colab": {
          "base_uri": "https://localhost:8080/"
        },
        "id": "ilf9IATbqbFS",
        "outputId": "afb459c9-1c52-4293-df68-993a66d970a8"
      },
      "execution_count": 19,
      "outputs": [
        {
          "output_type": "stream",
          "name": "stdout",
          "text": [
            "Enter the number of hours worked: 25\n",
            "Enter the hourly rate: 10\n",
            "Gross pay: 250.0\n"
          ]
        }
      ]
    },
    {
      "cell_type": "code",
      "source": [
        "# Write a Python program that takes two integer inputs from the user and prints\n",
        "# \"Both are positive\" if both numbers are positive, \"One is positive\" if one of them\n",
        "# is positive, and \"None are positive\" if neither is positive.\n",
        "num1 = int(input(\"Enter the first integer: \"))\n",
        "num2 = int(input(\"Enter the second integer: \"))\n",
        "\n",
        "if num1 > 0 and num2 > 0:\n",
        "  print(\"Both are positive\")\n",
        "elif num1 > 0 or num2 > 0:\n",
        "  print(\"One is positive\")\n",
        "else:\n",
        "  print(\"None are positive\")"
      ],
      "metadata": {
        "colab": {
          "base_uri": "https://localhost:8080/"
        },
        "id": "mC0P3DhUrWa1",
        "outputId": "c7cfe9ef-9616-40ad-bac3-d31ecedbe056"
      },
      "execution_count": 1,
      "outputs": [
        {
          "output_type": "stream",
          "name": "stdout",
          "text": [
            "Enter the first integer: 25\n",
            "Enter the second integer: 2\n",
            "Both are positive\n"
          ]
        }
      ]
    },
    {
      "cell_type": "code",
      "source": [
        "number = int(input(\"Enter a number: \"))\n",
        "if number > 0:\n",
        "  if number%2==0:\n",
        "    print(\"Number is Positive and Even\")\n",
        "  else:\n",
        "    print(\"Positive but odd\")\n",
        "else:\n",
        "  print(\"Number is negative\")"
      ],
      "metadata": {
        "colab": {
          "base_uri": "https://localhost:8080/"
        },
        "id": "JeJ7gYrRtzjs",
        "outputId": "5ac589d5-ddc5-4ae9-9608-987440203da3"
      },
      "execution_count": 7,
      "outputs": [
        {
          "output_type": "stream",
          "name": "stdout",
          "text": [
            "Enter a number: 5\n",
            "Positive but odd\n"
          ]
        }
      ]
    }
  ]
}