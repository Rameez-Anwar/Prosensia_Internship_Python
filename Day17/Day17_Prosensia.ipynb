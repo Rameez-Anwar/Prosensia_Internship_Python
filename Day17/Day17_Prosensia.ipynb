{
  "nbformat": 4,
  "nbformat_minor": 0,
  "metadata": {
    "colab": {
      "provenance": [],
      "authorship_tag": "ABX9TyMaJMQBRjXqlI45pzERfPmx"
    },
    "kernelspec": {
      "name": "python3",
      "display_name": "Python 3"
    },
    "language_info": {
      "name": "python"
    }
  },
  "cells": [
    {
      "cell_type": "code",
      "execution_count": 1,
      "metadata": {
        "colab": {
          "base_uri": "https://localhost:8080/"
        },
        "id": "ApTDxeLDe4uU",
        "outputId": "865390b2-cafc-4335-fc2a-0c4a43c98997"
      },
      "outputs": [
        {
          "output_type": "stream",
          "name": "stdout",
          "text": [
            "['apple', 'banana', 'cheery']\n"
          ]
        }
      ],
      "source": [
        "# 1. Creating list\n",
        "fruits =['apple','banana','cheery']\n",
        "print(fruits)"
      ]
    },
    {
      "cell_type": "code",
      "source": [
        "# 2. Accessing list elements\n",
        "numbers = [10, 20, 30, 40, 50]\n",
        "print(numbers[1], numbers[3])"
      ],
      "metadata": {
        "colab": {
          "base_uri": "https://localhost:8080/"
        },
        "id": "fi0wGhJBfOW7",
        "outputId": "2814a89b-5f85-43e6-c8da-437ba3d395f8"
      },
      "execution_count": 3,
      "outputs": [
        {
          "output_type": "stream",
          "name": "stdout",
          "text": [
            "20 40\n"
          ]
        }
      ]
    },
    {
      "cell_type": "code",
      "source": [
        "# 3.list slicing\n",
        "colors = ['red', 'green', 'blue', 'yellow', 'purple']\n",
        "print(colors[:3])"
      ],
      "metadata": {
        "colab": {
          "base_uri": "https://localhost:8080/"
        },
        "id": "wTCxmiCyfqjW",
        "outputId": "2db39c6e-cf1c-40e8-bbf4-d4f6eae141f4"
      },
      "execution_count": 5,
      "outputs": [
        {
          "output_type": "stream",
          "name": "stdout",
          "text": [
            "['red', 'green', 'blue']\n"
          ]
        }
      ]
    },
    {
      "cell_type": "code",
      "source": [
        "# 4. Modifying list\n",
        "animals = ['cat', 'dog', 'rabbit']\n",
        "animals[2]='hamster'\n",
        "print(animals)"
      ],
      "metadata": {
        "colab": {
          "base_uri": "https://localhost:8080/"
        },
        "id": "PJxDxf93gCnt",
        "outputId": "baca1019-d767-44f1-8e2c-29ca1555fbdc"
      },
      "execution_count": 10,
      "outputs": [
        {
          "output_type": "stream",
          "name": "stdout",
          "text": [
            "['cat', 'dog', 'hamster']\n"
          ]
        }
      ]
    },
    {
      "cell_type": "code",
      "source": [
        "# 5. Appending to list\n",
        "zoo = ['lion', 'tiger', 'bear']\n",
        "zoo.append('elephant')\n",
        "print(zoo)"
      ],
      "metadata": {
        "colab": {
          "base_uri": "https://localhost:8080/"
        },
        "id": "O7xU3dDrgxUt",
        "outputId": "32d5f2c1-ace0-4753-a6f4-fbab3599ee70"
      },
      "execution_count": 12,
      "outputs": [
        {
          "output_type": "stream",
          "name": "stdout",
          "text": [
            "['lion', 'tiger', 'bear', 'elephant']\n"
          ]
        }
      ]
    },
    {
      "cell_type": "code",
      "source": [
        "# 6 . Inserting to list\n",
        "fruits = ['apple', 'banana', 'cherry']\n",
        "fruits.insert(1,'grapes')\n",
        "print(fruits)"
      ],
      "metadata": {
        "colab": {
          "base_uri": "https://localhost:8080/"
        },
        "id": "tlbE6Uyqg-1q",
        "outputId": "3e8b2b49-bae2-40e6-8753-b4e0f60893f5"
      },
      "execution_count": 14,
      "outputs": [
        {
          "output_type": "stream",
          "name": "stdout",
          "text": [
            "['apple', 'grapes', 'banana', 'cherry']\n"
          ]
        }
      ]
    },
    {
      "cell_type": "code",
      "source": [
        "# 7. Removing from list\n",
        "fruits = ['apple', 'banana', 'cherry']\n",
        "fruits.remove('banana')\n",
        "print(fruits)"
      ],
      "metadata": {
        "colab": {
          "base_uri": "https://localhost:8080/"
        },
        "id": "nnVC8cV6hUd8",
        "outputId": "e1be9bac-4de0-40e6-eda9-6fb27958bc9d"
      },
      "execution_count": 15,
      "outputs": [
        {
          "output_type": "stream",
          "name": "stdout",
          "text": [
            "['apple', 'cherry']\n"
          ]
        }
      ]
    },
    {
      "cell_type": "code",
      "source": [
        "# 8. List Length\n",
        "languages = ['Python', 'Java', 'C++', 'JavaScript']\n",
        "length= len(languages)\n",
        "print(length)"
      ],
      "metadata": {
        "colab": {
          "base_uri": "https://localhost:8080/"
        },
        "id": "ZKTW-CEnhflm",
        "outputId": "8547b391-c7fa-43e2-a8e7-454e1414360b"
      },
      "execution_count": 18,
      "outputs": [
        {
          "output_type": "stream",
          "name": "stdout",
          "text": [
            "4\n"
          ]
        }
      ]
    },
    {
      "cell_type": "code",
      "source": [
        "# 9. List Concat\n",
        "list1 = [1, 2, 3]\n",
        "list2 = [4, 5, 6]\n",
        "concat=list1+list2\n",
        "print(concat)"
      ],
      "metadata": {
        "colab": {
          "base_uri": "https://localhost:8080/"
        },
        "id": "jSdxFzPch1iL",
        "outputId": "8c41d46c-7c1f-4998-911b-3579d33a383f"
      },
      "execution_count": 19,
      "outputs": [
        {
          "output_type": "stream",
          "name": "stdout",
          "text": [
            "[1, 2, 3, 4, 5, 6]\n"
          ]
        }
      ]
    },
    {
      "cell_type": "code",
      "source": [
        "# 10. List Comprehension\n",
        "numbers = [1, 2, 3, 4, 5]\n",
        "new =[ number * number for number in numbers]\n",
        "print(new)"
      ],
      "metadata": {
        "colab": {
          "base_uri": "https://localhost:8080/"
        },
        "id": "NGm1JvOJiDBY",
        "outputId": "ae3ebd6f-087b-4232-b02d-d0f374321356"
      },
      "execution_count": 27,
      "outputs": [
        {
          "output_type": "stream",
          "name": "stdout",
          "text": [
            "[1, 4, 9, 16, 25]\n"
          ]
        }
      ]
    }
  ]
}