{
  "nbformat": 4,
  "nbformat_minor": 0,
  "metadata": {
    "colab": {
      "provenance": [],
      "authorship_tag": "ABX9TyPcarWCet3VJVnGjKtR0KrT"
    },
    "kernelspec": {
      "name": "python3",
      "display_name": "Python 3"
    },
    "language_info": {
      "name": "python"
    }
  },
  "cells": [
    {
      "cell_type": "code",
      "execution_count": 3,
      "metadata": {
        "colab": {
          "base_uri": "https://localhost:8080/"
        },
        "id": "AZgIcNM6oQ1i",
        "outputId": "6879de1f-0064-4201-c433-cca163d68263"
      },
      "outputs": [
        {
          "output_type": "stream",
          "name": "stdout",
          "text": [
            "What is the capital of Pakistan? Islamabad\n",
            "Correct!\n",
            "What is our national language'? urdu\n",
            "Correct!\n",
            "What is the largest planet in our solar system? Jupiter\n",
            "Correct!\n",
            "What is the chemical symbol for water? mm\n",
            "Incorrect! The correct answer is H2O.\n",
            "When Pakistan came into being? 1947\n",
            "Correct!\n",
            "\n",
            "Your final score is 4 out of 5.\n"
          ]
        }
      ],
      "source": [
        "def get_questions():\n",
        "    return {\n",
        "        \"What is the capital of Pakistan?\": \"Islamabad\",\n",
        "        \"What is our national language'?\": \"Urdu\",\n",
        "        \"What is the largest planet in our solar system?\": \"Jupiter\",\n",
        "        \"What is the chemical symbol for water?\": \"H2O\",\n",
        "        \"When Pakistan came into being?\": \"1947\"\n",
        "    }\n",
        "\n",
        "def ask_question(question, answer):\n",
        "\n",
        "    user_answer = input(f\"{question} \").strip()\n",
        "    if user_answer.lower() == answer.lower():\n",
        "        print(\"Correct!\")\n",
        "        return True\n",
        "    else:\n",
        "        print(f\"Incorrect! The correct answer is {answer}.\")\n",
        "        return False\n",
        "\n",
        "questions = get_questions()\n",
        "score = 0\n",
        "\n",
        "for question, answer in questions.items():\n",
        "  if ask_question(question, answer):\n",
        "    score += 1\n",
        "\n",
        "print(f\"\\nYour final score is {score} out of {len(questions)}.\")\n"
      ]
    }
  ]
}