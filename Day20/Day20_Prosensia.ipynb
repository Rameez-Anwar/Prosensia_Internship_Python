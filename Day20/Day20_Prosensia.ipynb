{
  "nbformat": 4,
  "nbformat_minor": 0,
  "metadata": {
    "colab": {
      "provenance": [],
      "authorship_tag": "ABX9TyPcarWCet3VJVnGjKtR0KrT"
    },
    "kernelspec": {
      "name": "python3",
      "display_name": "Python 3"
    },
    "language_info": {
      "name": "python"
    }
  },
  "cells": [
    {
      "cell_type": "code",
      "execution_count": 2,
      "metadata": {
        "colab": {
          "base_uri": "https://localhost:8080/"
        },
        "id": "AZgIcNM6oQ1i",
        "outputId": "0d1bb66e-a91d-4990-f049-fedeaf9b68d8"
      },
      "outputs": [
        {
          "output_type": "stream",
          "name": "stdout",
          "text": [
            "What is the capital of France? paris\n",
            "Correct!\n",
            "Who wrote 'To Kill a Mockingbird'? mm\n",
            "Incorrect! The correct answer is Harper Lee.\n",
            "What is the largest planet in our solar system? jupiter\n",
            "Correct!\n",
            "What is the chemical symbol for water? h2o\n",
            "Correct!\n",
            "What year did the Titanic sink? 1912\n",
            "Correct!\n",
            "\n",
            "Your final score is 4 out of 5.\n"
          ]
        }
      ],
      "source": [
        "def get_questions():\n",
        "    return {\n",
        "        \"What is the capital of Pakistan?\": \"Islamabad\",\n",
        "        \"What is our national language'?\": \"Urdu\",\n",
        "        \"What is the largest planet in our solar system?\": \"Jupiter\",\n",
        "        \"What is the chemical symbol for water?\": \"H2O\",\n",
        "        \"When Pakistan came into being?\": \"1947\"\n",
        "    }\n",
        "\n",
        "def ask_question(question, answer):\n",
        "\n",
        "    user_answer = input(f\"{question} \").strip()\n",
        "    if user_answer.lower() == answer.lower():\n",
        "        print(\"Correct!\")\n",
        "        return True\n",
        "    else:\n",
        "        print(f\"Incorrect! The correct answer is {answer}.\")\n",
        "        return False\n",
        "\n",
        "questions = get_questions()\n",
        "score = 0\n",
        "\n",
        "for question, answer in questions.items():\n",
        "  if ask_question(question, answer):\n",
        "    score += 1\n",
        "\n",
        "print(f\"\\nYour final score is {score} out of {len(questions)}.\")\n"
      ]
    }
  ]
}