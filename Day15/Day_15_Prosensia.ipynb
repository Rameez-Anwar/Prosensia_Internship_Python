{
  "nbformat": 4,
  "nbformat_minor": 0,
  "metadata": {
    "colab": {
      "provenance": [],
      "authorship_tag": "ABX9TyNU2Y6TTvLtreEnx7A6qvod",
      "include_colab_link": true
    },
    "kernelspec": {
      "name": "python3",
      "display_name": "Python 3"
    },
    "language_info": {
      "name": "python"
    }
  },
  "cells": [
    {
      "cell_type": "markdown",
      "metadata": {
        "id": "view-in-github",
        "colab_type": "text"
      },
      "source": [
        "<a href=\"https://colab.research.google.com/github/rameez-anwar/Prosensia_Internship_Python/blob/main/Day15/Day_15_Prosensia.ipynb\" target=\"_parent\"><img src=\"https://colab.research.google.com/assets/colab-badge.svg\" alt=\"Open In Colab\"/></a>"
      ]
    },
    {
      "cell_type": "code",
      "execution_count": 1,
      "metadata": {
        "colab": {
          "base_uri": "https://localhost:8080/"
        },
        "id": "UgKZtZmdUC9q",
        "outputId": "7aea743a-3b21-4cd0-d238-22397ad87e39"
      },
      "outputs": [
        {
          "output_type": "execute_result",
          "data": {
            "text/plain": [
              "((4, 6), (-2, -2), (-5, 10), (0.44, 0.08))"
            ]
          },
          "metadata": {},
          "execution_count": 1
        }
      ],
      "source": [
        "# 1. Complex Number Arithmetic with Error Handling\n",
        "def complex_operations(a, b):\n",
        "\n",
        "    (a_real, a_imag), (b_real, b_imag) = a, b\n",
        "\n",
        "    add = (a_real + b_real, a_imag + b_imag)\n",
        "\n",
        "    sub = (a_real - b_real, a_imag - b_imag)\n",
        "    mul = (a_real * b_real - a_imag * b_imag, a_real * b_imag + a_imag * b_real)\n",
        "    try:\n",
        "        den = b_real**2 + b_imag**2\n",
        "        div = ((a_real * b_real + a_imag * b_imag) / den, (a_imag * b_real - a_real * b_imag) / den)\n",
        "    except ZeroDivisionError:\n",
        "        div = \"Division by zero error\"\n",
        "\n",
        "    return add, sub, mul, div\n",
        "complex_operations((1, 2), (3, 4))"
      ]
    },
    {
      "cell_type": "code",
      "source": [
        "# 2. Conditional Polynomial Evaluation with Multiple Conditions\n",
        "def evaluate_polynomial(x, coeffs):\n",
        "    if len(coeffs) == 2:\n",
        "        return coeffs[0] * x + coeffs[1]\n",
        "        return coeffs[0] * x**2 + coeffs[1] * x + coeffs[2]\n",
        "    elif len(coeffs) == 4:\n",
        "        return coeffs[0] * x**3 + coeffs[1] * x**2 + coeffs[2] * x + coeffs[3]\n",
        "    else:\n",
        "        return \"Unsupported polynomial degree\"\n",
        "evaluate_polynomial(2, [1,1 ])"
      ],
      "metadata": {
        "colab": {
          "base_uri": "https://localhost:8080/"
        },
        "id": "aTkAPWl_UaAs",
        "outputId": "1d3c181e-f47b-4eaa-c550-89d988f65749"
      },
      "execution_count": 7,
      "outputs": [
        {
          "output_type": "execute_result",
          "data": {
            "text/plain": [
              "3"
            ]
          },
          "metadata": {},
          "execution_count": 7
        }
      ]
    },
    {
      "cell_type": "code",
      "source": [
        "# 3 Recursive Fibonacci with Depth Limitation\n",
        "def fibonacci(n, depth, current_depth=0):\n",
        "    if current_depth > depth:\n",
        "        return 0\n",
        "    if n <= 0:\n",
        "        return 0\n",
        "    elif n == 1:\n",
        "        return 1\n",
        "    else:\n",
        "        return fibonacci(n-1, depth, current_depth+1) + fibonacci(n-2, depth, current_depth+1)\n",
        "fibonacci(10, 5)"
      ],
      "metadata": {
        "colab": {
          "base_uri": "https://localhost:8080/"
        },
        "id": "zZEHMmV7UyrC",
        "outputId": "610660a7-86f6-433e-8ac2-13154c22757b"
      },
      "execution_count": 16,
      "outputs": [
        {
          "output_type": "execute_result",
          "data": {
            "text/plain": [
              "5"
            ]
          },
          "metadata": {},
          "execution_count": 16
        }
      ]
    },
    {
      "cell_type": "code",
      "source": [
        "# 4. Higher-order Functions for Adaptive Integration\n",
        "def adaptive_integrate(f, a, b, tol=1e-6):\n",
        "    def recursive_adaptive_integration(f, a, b, fa, fb, mid, fmid, tol, whole):\n",
        "        left_mid = (a + mid) / 2\n",
        "        right_mid = (mid + b) / 2\n",
        "        f_left_mid = f(left_mid)\n",
        "        f_right_mid = f(right_mid)\n",
        "\n",
        "        left_area = (mid - a) / 6 * (fa + 4 * f_left_mid + fmid)\n",
        "        right_area = (b - mid) / 6 * (fmid + 4 * f_right_mid + fb)\n",
        "        new_area = left_area + right_area\n",
        "\n",
        "        if abs(new_area - whole) <= 15 * tol:\n",
        "            return new_area\n",
        "        else:\n",
        "            left = recursive_adaptive_integration(f, a, mid, fa, fmid, left_mid, f_left_mid, tol / 2, left_area)\n",
        "            right = recursive_adaptive_integration(f, mid, b, fmid, fb, right_mid, f_right_mid, tol / 2, right_area)\n",
        "            return left + right\n",
        "\n",
        "    mid = (a + b) / 2\n",
        "    fa = f(a)\n",
        "    fb = f(b)\n",
        "    fmid = f(mid)\n",
        "    whole = (b - a) / 6 * (fa + 4 * fmid + fb)\n",
        "\n",
        "    return recursive_adaptive_integration(f, a, b, fa, fb, mid, fmid, tol, whole)\n",
        "adaptive_integrate(lambda x: x**2, 0, 1)"
      ],
      "metadata": {
        "colab": {
          "base_uri": "https://localhost:8080/"
        },
        "id": "ms5sKYi1V6ed",
        "outputId": "7747c618-9e3a-4a8f-aba3-af8f07879ff7"
      },
      "execution_count": 17,
      "outputs": [
        {
          "output_type": "execute_result",
          "data": {
            "text/plain": [
              "0.3333333333333333"
            ]
          },
          "metadata": {},
          "execution_count": 17
        }
      ]
    },
    {
      "cell_type": "code",
      "source": [
        "# 5. Optimized Prime Number Generator with Caching\n",
        "def prime_generator(limit):\n",
        "    primes = []\n",
        "    sieve = [True] * (limit + 1)\n",
        "    for p in range(2, limit + 1):\n",
        "        if sieve[p]:\n",
        "            primes.append(p)\n",
        "            for i in range(p * p, limit + 1, p):\n",
        "                sieve[i] = False\n",
        "    return primes\n",
        "prime_generator(10)"
      ],
      "metadata": {
        "colab": {
          "base_uri": "https://localhost:8080/"
        },
        "id": "gcXLV0AyWAIb",
        "outputId": "40f4ba46-21ca-41bd-b8fe-862c47b7e7ee"
      },
      "execution_count": 18,
      "outputs": [
        {
          "output_type": "execute_result",
          "data": {
            "text/plain": [
              "[2, 3, 5, 7]"
            ]
          },
          "metadata": {},
          "execution_count": 18
        }
      ]
    },
    {
      "cell_type": "code",
      "source": [
        "# 6. Memoized Fibonacci Sequence with Iterative Fallback\n",
        "def memoized_fibonacci(n, max_cache_size=1000):\n",
        "    cache = {}\n",
        "\n",
        "    def fib(n):\n",
        "        if n in cache:\n",
        "            return cache[n]\n",
        "        if n <= 1:\n",
        "            return n\n",
        "        result = fib(n-1) + fib(n-2)\n",
        "        if len(cache) < max_cache_size:\n",
        "            cache[n] = result\n",
        "        return result\n",
        "\n",
        "    if n < max_cache_size:\n",
        "        return fib(n)\n",
        "    else:\n",
        "        a, b = 0, 1\n",
        "        for _ in range(n):\n",
        "            a, b = b, a + b\n",
        "        return a\n",
        "memoized_fibonacci(10)"
      ],
      "metadata": {
        "colab": {
          "base_uri": "https://localhost:8080/"
        },
        "id": "L3gIELQ-WFZW",
        "outputId": "75f58a8a-a642-475e-efde-df36aca9d762"
      },
      "execution_count": 19,
      "outputs": [
        {
          "output_type": "execute_result",
          "data": {
            "text/plain": [
              "55"
            ]
          },
          "metadata": {},
          "execution_count": 19
        }
      ]
    },
    {
      "cell_type": "code",
      "source": [
        "\n",
        "# 7. Regular Expression Based String Parsing\n",
        "import re\n",
        "\n",
        "def extract_dates(text):\n",
        "    date_pattern = r'\\d{4}-\\d{2}-\\d{2}'\n",
        "    dates = re.findall(date_pattern, text)\n",
        "    return dates\n",
        "text = \"Today is 2023-11-25, and the deadline is 2024-12-31.\"\n",
        "extracted_dates = extract_dates(text)\n",
        "print(extracted_dates)\n"
      ],
      "metadata": {
        "colab": {
          "base_uri": "https://localhost:8080/"
        },
        "id": "SBNA4VxkWNpg",
        "outputId": "d70cac32-cf88-4fa3-be61-7bbbb27dbd59"
      },
      "execution_count": 25,
      "outputs": [
        {
          "output_type": "stream",
          "name": "stdout",
          "text": [
            "['2023-11-25', '2024-12-31']\n"
          ]
        }
      ]
    },
    {
      "cell_type": "code",
      "source": [
        "# 8. Advanced String Transformation with Multiple Conditions\n",
        "def transform_string(s):\n",
        "    def digit_to_word(d):\n",
        "        return [\"zero\", \"one\", \"two\", \"three\", \"four\", \"five\", \"six\", \"seven\", \"eight\", \"nine\"][int(d)]\n",
        "\n",
        "    s = ''.join(digit_to_word(c) if c.isdigit() else c for c in s)\n",
        "    s = ' '.join(word[::-1] if len(word) > 5 else word for word in s.split())\n",
        "    return s.title()\n",
        "transform_string(\"Rameez Anwar\")"
      ],
      "metadata": {
        "colab": {
          "base_uri": "https://localhost:8080/",
          "height": 36
        },
        "id": "0ACP4C-KXTxW",
        "outputId": "e2441794-17b2-45fa-a66a-b203d90e8148"
      },
      "execution_count": 30,
      "outputs": [
        {
          "output_type": "execute_result",
          "data": {
            "text/plain": [
              "'Zeemar Anwar'"
            ],
            "application/vnd.google.colaboratory.intrinsic+json": {
              "type": "string"
            }
          },
          "metadata": {},
          "execution_count": 30
        }
      ]
    },
    {
      "cell_type": "code",
      "source": [
        "# 9. Dynamic Expression Evaluator with Variable Substitution\n",
        "def evaluate_expression(expr, vars_dict):\n",
        "    for var, value in vars_dict.items():\n",
        "        expr = expr.replace(var, str(value))\n",
        "    try:\n",
        "        return eval(expr)\n",
        "    except NameError:\n",
        "        return \"Undefined variable\"\n",
        "evaluate_expression(\"x + y\", {\"x\": 5, \"y\": 3})"
      ],
      "metadata": {
        "colab": {
          "base_uri": "https://localhost:8080/"
        },
        "id": "6Ss8V2VYYkt3",
        "outputId": "efd8cef8-3be5-435d-f6cc-99c27870184a"
      },
      "execution_count": 31,
      "outputs": [
        {
          "output_type": "execute_result",
          "data": {
            "text/plain": [
              "8"
            ]
          },
          "metadata": {},
          "execution_count": 31
        }
      ]
    },
    {
      "cell_type": "code",
      "source": [
        "# 10. Comprehensive Data Validator\n",
        "def validate_data(entries):\n",
        "    def is_email(s):\n",
        "        return re.match(r\"[^@]+@[^@]+\\.[^@]+\", s) is not None\n",
        "\n",
        "    def is_date(s):\n",
        "        return re.match(r\"\\d{4}-\\d{2}-\\d{2}\", s) is not None\n",
        "\n",
        "    report = []\n",
        "    for entry in entries:\n",
        "        length_valid = len(entry) >= 5\n",
        "        content_valid = entry.isalpha() or entry.isnumeric() or entry.isalnum()\n",
        "        format_valid = is_email(entry) or is_date(entry)\n",
        "\n",
        "        report.append({\n",
        "            \"entry\": entry,\n",
        "            \"length_valid\": length_valid,\n",
        "            \"content_valid\": content_valid,\n",
        "            \"format_valid\": format_valid\n",
        "        })\n",
        "\n",
        "    return report\n",
        "validate_data(\"rameezmughalrr@gmail.com\")"
      ],
      "metadata": {
        "colab": {
          "base_uri": "https://localhost:8080/"
        },
        "id": "yjU6HLhpYpJn",
        "outputId": "8491c0c7-1530-4215-fe67-d79e26332931"
      },
      "execution_count": 32,
      "outputs": [
        {
          "output_type": "execute_result",
          "data": {
            "text/plain": [
              "[{'entry': 'r',\n",
              "  'length_valid': False,\n",
              "  'content_valid': True,\n",
              "  'format_valid': False},\n",
              " {'entry': 'a',\n",
              "  'length_valid': False,\n",
              "  'content_valid': True,\n",
              "  'format_valid': False},\n",
              " {'entry': 'm',\n",
              "  'length_valid': False,\n",
              "  'content_valid': True,\n",
              "  'format_valid': False},\n",
              " {'entry': 'e',\n",
              "  'length_valid': False,\n",
              "  'content_valid': True,\n",
              "  'format_valid': False},\n",
              " {'entry': 'e',\n",
              "  'length_valid': False,\n",
              "  'content_valid': True,\n",
              "  'format_valid': False},\n",
              " {'entry': 'z',\n",
              "  'length_valid': False,\n",
              "  'content_valid': True,\n",
              "  'format_valid': False},\n",
              " {'entry': 'm',\n",
              "  'length_valid': False,\n",
              "  'content_valid': True,\n",
              "  'format_valid': False},\n",
              " {'entry': 'u',\n",
              "  'length_valid': False,\n",
              "  'content_valid': True,\n",
              "  'format_valid': False},\n",
              " {'entry': 'g',\n",
              "  'length_valid': False,\n",
              "  'content_valid': True,\n",
              "  'format_valid': False},\n",
              " {'entry': 'h',\n",
              "  'length_valid': False,\n",
              "  'content_valid': True,\n",
              "  'format_valid': False},\n",
              " {'entry': 'a',\n",
              "  'length_valid': False,\n",
              "  'content_valid': True,\n",
              "  'format_valid': False},\n",
              " {'entry': 'l',\n",
              "  'length_valid': False,\n",
              "  'content_valid': True,\n",
              "  'format_valid': False},\n",
              " {'entry': 'r',\n",
              "  'length_valid': False,\n",
              "  'content_valid': True,\n",
              "  'format_valid': False},\n",
              " {'entry': 'r',\n",
              "  'length_valid': False,\n",
              "  'content_valid': True,\n",
              "  'format_valid': False},\n",
              " {'entry': '@',\n",
              "  'length_valid': False,\n",
              "  'content_valid': False,\n",
              "  'format_valid': False},\n",
              " {'entry': 'g',\n",
              "  'length_valid': False,\n",
              "  'content_valid': True,\n",
              "  'format_valid': False},\n",
              " {'entry': 'm',\n",
              "  'length_valid': False,\n",
              "  'content_valid': True,\n",
              "  'format_valid': False},\n",
              " {'entry': 'a',\n",
              "  'length_valid': False,\n",
              "  'content_valid': True,\n",
              "  'format_valid': False},\n",
              " {'entry': 'i',\n",
              "  'length_valid': False,\n",
              "  'content_valid': True,\n",
              "  'format_valid': False},\n",
              " {'entry': 'l',\n",
              "  'length_valid': False,\n",
              "  'content_valid': True,\n",
              "  'format_valid': False},\n",
              " {'entry': '.',\n",
              "  'length_valid': False,\n",
              "  'content_valid': False,\n",
              "  'format_valid': False},\n",
              " {'entry': 'c',\n",
              "  'length_valid': False,\n",
              "  'content_valid': True,\n",
              "  'format_valid': False},\n",
              " {'entry': 'o',\n",
              "  'length_valid': False,\n",
              "  'content_valid': True,\n",
              "  'format_valid': False},\n",
              " {'entry': 'm',\n",
              "  'length_valid': False,\n",
              "  'content_valid': True,\n",
              "  'format_valid': False}]"
            ]
          },
          "metadata": {},
          "execution_count": 32
        }
      ]
    }
  ]
}