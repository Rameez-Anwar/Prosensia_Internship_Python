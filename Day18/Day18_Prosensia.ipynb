{
  "nbformat": 4,
  "nbformat_minor": 0,
  "metadata": {
    "colab": {
      "provenance": [],
      "authorship_tag": "ABX9TyMTmRQ8lzTemrALRTpGJHye"
    },
    "kernelspec": {
      "name": "python3",
      "display_name": "Python 3"
    },
    "language_info": {
      "name": "python"
    }
  },
  "cells": [
    {
      "cell_type": "code",
      "execution_count": 4,
      "metadata": {
        "colab": {
          "base_uri": "https://localhost:8080/"
        },
        "id": "JSymXfB_SeTi",
        "outputId": "ec96b409-5ea1-445b-de15-3a93afa76bd3"
      },
      "outputs": [
        {
          "output_type": "stream",
          "name": "stdout",
          "text": [
            "{'name': 'Rameez', 'age': 22, 'city': 'Abbottabad'}\n"
          ]
        }
      ],
      "source": [
        "# 1. Creating a Dictionary\n",
        "my_dict = {}\n",
        "my_dict[\"name\"] = \"Rameez\"\n",
        "my_dict[\"age\"] = 22\n",
        "my_dict[\"city\"] = \"Abbottabad\"\n",
        "print(my_dict)"
      ]
    },
    {
      "cell_type": "code",
      "source": [
        "# 2. Accessing Dictionary Values\n",
        "def print_value(dictionary, key):\n",
        "    if key in dictionary:\n",
        "        print(dictionary[key])\n",
        "    else:\n",
        "        print(\"Key not found\")\n",
        "print_value(my_dict, \"name\")"
      ],
      "metadata": {
        "colab": {
          "base_uri": "https://localhost:8080/"
        },
        "id": "7pk2cEDcTXan",
        "outputId": "357ec169-de17-4b6a-f84f-1a93611b1257"
      },
      "execution_count": 5,
      "outputs": [
        {
          "output_type": "stream",
          "name": "stdout",
          "text": [
            "Rameez\n"
          ]
        }
      ]
    },
    {
      "cell_type": "code",
      "source": [
        "# 3. Updating Dictionary Values\n",
        "sample_dict = {\"name\": \"Rameez\", \"age\": 22, \"city\": \"Rameez\"}\n",
        "print(\"Before update:\", sample_dict)\n",
        "sample_dict[\"age\"] = 31\n",
        "print(\"After update:\", sample_dict)"
      ],
      "metadata": {
        "colab": {
          "base_uri": "https://localhost:8080/"
        },
        "id": "-rRUpCAGTqUm",
        "outputId": "6714d66c-9d59-4344-9445-d5c2375be40d"
      },
      "execution_count": 7,
      "outputs": [
        {
          "output_type": "stream",
          "name": "stdout",
          "text": [
            "Before update: {'name': 'Rameez', 'age': 22, 'city': 'Rameez'}\n",
            "After update: {'name': 'Rameez', 'age': 31, 'city': 'Rameez'}\n"
          ]
        }
      ]
    },
    {
      "cell_type": "code",
      "source": [
        "# 4. Counting Word Occurrences\n",
        "text = input(\"Enter a line of text: \")\n",
        "words = text.split()\n",
        "word_count = {}\n",
        "for word in words:\n",
        "    word_count[word] = word_count.get(word, 0) + 1\n",
        "print(word_count)"
      ],
      "metadata": {
        "colab": {
          "base_uri": "https://localhost:8080/"
        },
        "id": "moSGW2F8T8KY",
        "outputId": "48f7c753-d00c-42b6-e405-8665386f7bac"
      },
      "execution_count": 8,
      "outputs": [
        {
          "output_type": "stream",
          "name": "stdout",
          "text": [
            "Enter a line of text: Hello, How are you?\n",
            "{'Hello,': 1, 'How': 1, 'are': 1, 'you?': 1}\n"
          ]
        }
      ]
    },
    {
      "cell_type": "code",
      "source": [
        "\n",
        "# 5. Retrieving Dictionary Keys and Values\n",
        "def print_keys_values(dictionary):\n",
        "    print(\"Keys:\", list(dictionary.keys()))\n",
        "    print(\"Values:\", list(dictionary.values()))\n",
        "print_keys_values(my_dict)"
      ],
      "metadata": {
        "colab": {
          "base_uri": "https://localhost:8080/"
        },
        "id": "KHF1_DhxUIbH",
        "outputId": "69e6ae8d-500a-45e0-85e3-3447383d45d0"
      },
      "execution_count": 9,
      "outputs": [
        {
          "output_type": "stream",
          "name": "stdout",
          "text": [
            "Keys: ['name', 'age', 'city']\n",
            "Values: ['Rameez', 22, 'Abbottabad']\n"
          ]
        }
      ]
    },
    {
      "cell_type": "code",
      "source": [
        "# 6. Dictionary Default Values\n",
        "value = sample_dict.get(\"gender\", 0)\n",
        "print(value)\n"
      ],
      "metadata": {
        "colab": {
          "base_uri": "https://localhost:8080/"
        },
        "id": "mhDG14mXU8zv",
        "outputId": "30e98db8-b909-403c-95df-e6d8141be77c"
      },
      "execution_count": 10,
      "outputs": [
        {
          "output_type": "stream",
          "name": "stdout",
          "text": [
            "0\n"
          ]
        }
      ]
    },
    {
      "cell_type": "code",
      "source": [
        "# 7. Nested Dictionaries\n",
        "students = {\n",
        "    \"student1\": {\n",
        "        \"name\": \"Rameez\",\n",
        "        \"age\": 22,\n",
        "        \"grades\": {\"math\": 90, \"science\": 85}\n",
        "    },\n",
        "    \"student2\": {\n",
        "        \"name\": \"Ali\",\n",
        "        \"age\": 22,\n",
        "        \"grades\": {\"math\": 88, \"science\": 92}\n",
        "    }\n",
        "}\n",
        "print(students)"
      ],
      "metadata": {
        "colab": {
          "base_uri": "https://localhost:8080/"
        },
        "id": "TYOfKlJoVGOf",
        "outputId": "f1463cb6-d162-42fd-ac93-e7afe998495e"
      },
      "execution_count": 12,
      "outputs": [
        {
          "output_type": "stream",
          "name": "stdout",
          "text": [
            "{'student1': {'name': 'Rameez', 'age': 22, 'grades': {'math': 90, 'science': 85}}, 'student2': {'name': 'Ali', 'age': 22, 'grades': {'math': 88, 'science': 92}}}\n"
          ]
        }
      ]
    },
    {
      "cell_type": "code",
      "source": [
        "# 8. Merging Dictionaries\n",
        "dict1 = {\"name\": \"Rameez\", \"age\": 21}\n",
        "dict2 = {\"age\": 31, \"city\": \"Abbottabad\"}\n",
        "dict1.update(dict2)\n",
        "print(dict1)"
      ],
      "metadata": {
        "colab": {
          "base_uri": "https://localhost:8080/"
        },
        "id": "O2gXJgaIVPeQ",
        "outputId": "7d85f0e0-4dcf-44a2-e504-fdf79d3aaeb7"
      },
      "execution_count": 13,
      "outputs": [
        {
          "output_type": "stream",
          "name": "stdout",
          "text": [
            "{'name': 'Rameez', 'age': 31, 'city': 'Abbottabad'}\n"
          ]
        }
      ]
    },
    {
      "cell_type": "code",
      "source": [
        "# 9. Dictionary Tracebacks\n",
        "try:\n",
        "    print(sample_dict[\"gender\"])\n",
        "except KeyError:\n",
        "    print(\"Error: Key not found in dictionary\")"
      ],
      "metadata": {
        "colab": {
          "base_uri": "https://localhost:8080/"
        },
        "id": "16rzND5TVbxM",
        "outputId": "1124a37e-baaf-48c6-e319-b5ce4e71e6a5"
      },
      "execution_count": 14,
      "outputs": [
        {
          "output_type": "stream",
          "name": "stdout",
          "text": [
            "Error: Key not found in dictionary\n"
          ]
        }
      ]
    },
    {
      "cell_type": "code",
      "source": [
        "# 10. Finding the Most Common Word\n",
        "with open(\"text_file.txt\", \"r\") as file:\n",
        "    text = file.read()\n",
        "words = text.split()\n",
        "word_count = {}\n",
        "for word in words:\n",
        "    word_count[word] = word_count.get(word, 0) + 1\n",
        "most_common_word = max(word_count, key=word_count.get)\n",
        "print(f\"The most common word is '{most_common_word}' with {word_count[most_common_word]} occurrences.\")"
      ],
      "metadata": {
        "colab": {
          "base_uri": "https://localhost:8080/"
        },
        "id": "J1KJtvaPVikv",
        "outputId": "52cc2a24-7567-49f8-9356-ffaeee38da2d"
      },
      "execution_count": 15,
      "outputs": [
        {
          "output_type": "stream",
          "name": "stdout",
          "text": [
            "The most common word is 'Hello,' with 1 occurrences.\n"
          ]
        }
      ]
    },
    {
      "cell_type": "code",
      "source": [],
      "metadata": {
        "id": "aRUOlJTQVyBS"
      },
      "execution_count": null,
      "outputs": []
    }
  ]
}