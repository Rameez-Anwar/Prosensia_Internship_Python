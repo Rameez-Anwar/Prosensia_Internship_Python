{
  "nbformat": 4,
  "nbformat_minor": 0,
  "metadata": {
    "colab": {
      "provenance": [],
      "authorship_tag": "ABX9TyOd8yfOsRXIPE5LF8S/niOO"
    },
    "kernelspec": {
      "name": "python3",
      "display_name": "Python 3"
    },
    "language_info": {
      "name": "python"
    }
  },
  "cells": [
    {
      "cell_type": "code",
      "execution_count": 2,
      "metadata": {
        "colab": {
          "base_uri": "https://localhost:8080/"
        },
        "id": "73UaycpuWMYm",
        "outputId": "e610f30b-5cf2-4178-c04f-bbba26308e66"
      },
      "outputs": [
        {
          "output_type": "stream",
          "name": "stdout",
          "text": [
            "Ali\n"
          ]
        }
      ],
      "source": [
        "# 1. Tuple Basics\n",
        "people = ('Rameez', 'Ali', 'Usman')\n",
        "print(people[1])"
      ]
    },
    {
      "cell_type": "code",
      "source": [
        "# 2. Tuple and Max Function\n",
        "def max_in_tuple(tup):\n",
        "    return max(tup)\n",
        "\n",
        "numbers = (4, 7, 1)\n",
        "print(max_in_tuple(numbers))"
      ],
      "metadata": {
        "colab": {
          "base_uri": "https://localhost:8080/"
        },
        "id": "sEEbiACOWU-S",
        "outputId": "64b0b7d2-ede0-42e9-d87e-8bca2f551086"
      },
      "execution_count": 3,
      "outputs": [
        {
          "output_type": "stream",
          "name": "stdout",
          "text": [
            "7\n"
          ]
        }
      ]
    },
    {
      "cell_type": "code",
      "source": [
        "# 3. Immutable Property\n",
        "try:\n",
        "    fruits = ('apple', 'banana', 'cherry')\n",
        "    fruits[1] = 'orange'\n",
        "except TypeError as e:\n",
        "    print(f\"Error: {e}\")"
      ],
      "metadata": {
        "colab": {
          "base_uri": "https://localhost:8080/"
        },
        "id": "biF-YHutWbur",
        "outputId": "4d29e974-da15-484b-a592-51558fec3281"
      },
      "execution_count": 4,
      "outputs": [
        {
          "output_type": "stream",
          "name": "stdout",
          "text": [
            "Error: 'tuple' object does not support item assignment\n"
          ]
        }
      ]
    },
    {
      "cell_type": "code",
      "source": [
        "# 4. Tuple Operations\n",
        "my_list = [1, 2, 3]\n",
        "my_tuple = (1, 2, 3)\n",
        "my_list.append(4)\n",
        "\n",
        "try:\n",
        "    my_tuple.append(4)\n",
        "except AttributeError as e:\n",
        "    print(f\"Error: {e}\")\n",
        "\n",
        "print(\"List after append:\", my_list)\n",
        "print(\"Tuple remains unchanged:\", my_tuple)"
      ],
      "metadata": {
        "colab": {
          "base_uri": "https://localhost:8080/"
        },
        "id": "WuEco4KqWjNt",
        "outputId": "3fc949bf-242c-4545-84a8-3590822b83c0"
      },
      "execution_count": 6,
      "outputs": [
        {
          "output_type": "stream",
          "name": "stdout",
          "text": [
            "Error: 'tuple' object has no attribute 'append'\n",
            "List after append: [1, 2, 3, 4]\n",
            "Tuple remains unchanged: (1, 2, 3)\n"
          ]
        }
      ]
    },
    {
      "cell_type": "code",
      "source": [
        "# 5. Tuple Assignment\n",
        "def swap_values(a, b):\n",
        "    a, b = b, a\n",
        "    return a, b\n",
        "\n",
        "a = 5\n",
        "b = 10\n",
        "a, b = swap_values(a, b)\n",
        "print(f\"a = {a}, b = {b}\")"
      ],
      "metadata": {
        "colab": {
          "base_uri": "https://localhost:8080/"
        },
        "id": "nb5pgleKWmIH",
        "outputId": "65e1ef1e-bf7c-4cfc-a836-ce0678ad21e0"
      },
      "execution_count": 7,
      "outputs": [
        {
          "output_type": "stream",
          "name": "stdout",
          "text": [
            "a = 10, b = 5\n"
          ]
        }
      ]
    },
    {
      "cell_type": "code",
      "source": [
        "# 6. Dictionary and Tuples\n",
        "def dict_to_tuples(dictionary):\n",
        "    return list(dictionary.items())\n",
        "\n",
        "sample_dict = {'x': 1, 'y': 2, 'z': 3}\n",
        "print(dict_to_tuples(sample_dict))"
      ],
      "metadata": {
        "colab": {
          "base_uri": "https://localhost:8080/"
        },
        "id": "c6_i6GOmW63p",
        "outputId": "c0079afd-cfc7-4976-dbbd-b89a2c9451fc"
      },
      "execution_count": 8,
      "outputs": [
        {
          "output_type": "stream",
          "name": "stdout",
          "text": [
            "[('x', 1), ('y', 2), ('z', 3)]\n"
          ]
        }
      ]
    },
    {
      "cell_type": "code",
      "source": [
        "# 7. Sorting Tuples\n",
        "def sort_dict_by_values(dictionary):\n",
        "    return sorted(dictionary.items(), key=lambda item: item[1], reverse=True)\n",
        "\n",
        "sample_dict = {'a': 10, 'b': 1, 'c': 22}\n",
        "print(sort_dict_by_values(sample_dict))"
      ],
      "metadata": {
        "colab": {
          "base_uri": "https://localhost:8080/"
        },
        "id": "dOhcWfxjW_Ny",
        "outputId": "dbab8b96-453c-43a6-c8e9-c61657eb6186"
      },
      "execution_count": 9,
      "outputs": [
        {
          "output_type": "stream",
          "name": "stdout",
          "text": [
            "[('c', 22), ('a', 10), ('b', 1)]\n"
          ]
        }
      ]
    },
    {
      "cell_type": "code",
      "source": [
        "# 8. Tuple Comparison\n",
        "def compare_tuples(tup1, tup2):\n",
        "    return [a == b for a, b in zip(tup1, tup2)]\n",
        "\n",
        "tup1 = (1, 2, 3)\n",
        "tup2 = (3, 2, 1)\n",
        "print(compare_tuples(tup1, tup2))"
      ],
      "metadata": {
        "colab": {
          "base_uri": "https://localhost:8080/"
        },
        "id": "AmnoxyaQXCaB",
        "outputId": "f3551756-ad10-4ce5-d454-1ccacea34153"
      },
      "execution_count": 10,
      "outputs": [
        {
          "output_type": "stream",
          "name": "stdout",
          "text": [
            "[False, True, False]\n"
          ]
        }
      ]
    },
    {
      "cell_type": "code",
      "source": [
        "# 9. Top N Frequent Words\n",
        "def top_n_frequent_words(file_name, n):\n",
        "    with open(file_name, 'r') as file:\n",
        "        text = file.read()\n",
        "    words = text.split()\n",
        "    word_count = {}\n",
        "    for word in words:\n",
        "        word_count[word] = word_count.get(word, 0) + 1\n",
        "    sorted_words = sorted(word_count.items(), key=lambda item: item[1], reverse=True)\n",
        "    return sorted_words[:n]\n",
        "\n",
        "top_n_frequent_words('romeo.txt', 3)"
      ],
      "metadata": {
        "colab": {
          "base_uri": "https://localhost:8080/"
        },
        "id": "fDVWWGImXGtZ",
        "outputId": "d2531e95-a18c-45c0-ec53-237c924ffea4"
      },
      "execution_count": 11,
      "outputs": [
        {
          "output_type": "execute_result",
          "data": {
            "text/plain": [
              "[('nclkanckjhlkcn', 1), ('jnjnk', 1), ('kn', 1)]"
            ]
          },
          "metadata": {},
          "execution_count": 11
        }
      ]
    },
    {
      "cell_type": "code",
      "source": [
        "# 10. List Comprehension with Tuples\n",
        "def sorted_reversed_tuples(dictionary):\n",
        "    return sorted([(v, k) for k, v in dictionary.items()])\n",
        "\n",
        "sample_dict = {'a': 10, 'b': 1, 'c': 22}\n",
        "print(sorted_reversed_tuples(sample_dict))"
      ],
      "metadata": {
        "colab": {
          "base_uri": "https://localhost:8080/"
        },
        "id": "v9WbKqTGXVeh",
        "outputId": "bdab0142-63b1-4efd-8a53-eeb50e0c19c0"
      },
      "execution_count": 12,
      "outputs": [
        {
          "output_type": "stream",
          "name": "stdout",
          "text": [
            "[(1, 'b'), (10, 'a'), (22, 'c')]\n"
          ]
        }
      ]
    }
  ]
}